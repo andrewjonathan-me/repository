{
 "cells": [
  {
   "cell_type": "markdown",
   "id": "9edfd03a",
   "metadata": {},
   "source": [
    "# Problem and Data Understanding\n",
    "Money Laundry menjadi salah satu tantangan serius yang dapat merugikan negara dan masyarakat. Proses ini melibatkan upaya untuk menyembunyikan sumber dana yang diperoleh secara ilegal, seperti melalui kegiatan korupsi, perdagangan narkoba, terorisme, dan lainnya. Pelaku Money Laundry menggunakan berbagai metode dalam melakukan transaksi keuangan baik melalui bank, perusahaan, ataupun individu guna mencampurkan dana hasil kegiatan ilegal dengan dana yang sah. Tujuan utama dari Money Laundry adalah untuk menghindari deteksi dan tindakan hukum.\n",
    "\n",
    "\n",
    "Dalam upaya menangani permasalahan ini, pihak berwenang memerlukan alat bantu yang dapat mengidentifikasi transaksi keuangan yang mencurigakan. Salah satu solusi yang dapat digunakan adalah membangun algoritma machine learning yang optimal. Machine learning merupakan cabang ilmu komputer yang memungkinkan komputer untuk belajar dari pola sebuah data dan membuat prediksi atau keputusan. Dengan memanfaatkan machine learning, pihak berwenang dapat mengklasifikasikan transaksi keuangan menjadi dua kategori yaitu Money Laundry atau tidak.\n",
    "\n",
    "\n",
    "Saya ditugaskan untuk mengembangkan algoritma machine learning yang dapat mengkategorikan transaksi keuangan menggunakan data sintetis yang disediakan oleh IBM. Data yang disediakan dalam lomba ini berisikan transaksi keuangan antara individu, perusahaan, dan bank. Data ini juga mencakup seluruh siklus Money Laundry yaitu penempatan, layering, dan integrasi. Setiap transaksi dalam data ini memiliki sejumlah Feature seperti timestamp, from bank, account, to bank, account, amount received, receiving currency, amount paid, payment currency, payment format, dan is laundering. Seluruh feature ini memberikan informasi tentang detail transaksi, seperti waktu transaksi, bank asal dan tujuan, akun asal dan tujuan, jumlah uang yang diterima dan dibayarkan, mata uang, format pembayaran, dan apakah transaksi tersebut termasuk Money Laundry atau tidak sebagai labelnya. Feature-feature tersebut dapat menunjukkan apakah suatu transaksi merupakan Money Laundry atau bukan.\n",
    "\n",
    "\n",
    "saya berusaha untuk dapat menciptakan algoritma machine learning dengan kinerja tinggi dalam mengklasifikasikan transaksi keuangan. Performa algoritma akan dinilai menggunakan metrik seperti precision, accuracy, recall, dan F1 score. Accuracy adalah rasio transaksi yang diprediksi dengan benar terhadap seluruh transaksi. Precision adalah rasio transaksi yang benar-benar Money Laundry terhadap transaksi yang diprediksi sebagai Money Laundry. Recall adalah rasio transaksi yang benar-benar Money Laundry terhadap transaksi yang sebenarnya Money Laundry. F1 score adalah rata-rata dari precision dan recall yang biasa digunakan ketika precision dan recall sama-sama dibutuhkan."
   ]
  },
  {
   "cell_type": "markdown",
   "id": "555f81ea",
   "metadata": {},
   "source": [
    "## Import New Dataset\n",
    "Langkah pertama dalam melakukan Machine Learning Modeling adalah peng-Importan dataset. Dalam Soal \"Preliminary Round : Machine Learning Model\", terdapat dua dataset yang wajib digunakan dalam membuat model yakni dataset “Hi-Large_Trans.csv” dan “Li-Large_Trans.csv”. Kedua dataset ini memiliki feature yang persis sama tetapi dengan data yang berbeda. \n",
    "Data yang teridentifikasi sebagai Money Laundry lebih banyak terdapat pada dataset Hi-Large_Trans.csv dibandingkan dataset Li-Large_Trans.csv. \n",
    "\n",
    "\n",
    "Terdapat sebuah anomali di kedua dataset yakni adanya imbalance pada label 'Is Laundering' dimana rasio antara value 1 (teridentifikasi money laundry) dan value 0 (tidak teridentifikasi money laundry) hanya 1 : 807 pada dataset 'Hi', dan 1 : 1750 pada dataset 'Li'.Imbalance atau ketidakseimbangan value pada label dapat berakibat buruk pada hasil model kita. Permasalahannya adalah ketika model belajar banyak pada data training yang tidak money laundry, sedangkan model sedikit belajar pada data training yang teridentifikasi sebagai money laundry. Ketika tahap testing model, data yang menjadi data test jauh lebih banyak yang tidak money laundry sehingga akurasi dari model kita menjadi tidak akurat.\n",
    "\n",
    "\n",
    "Oleh karena itu untuk menghindari imbalance data, maka saya menggabungkan kedua dataset ('Hi', dan 'Li') menjadi dataset baru yang bernama 'df'. Akan tetapi karena Hi lebih banyak mengandung data yang teridentifikasi sebagai money laundry, maka saya hanya mempertahankan dataset Hi dengan tupple-tupple yang teridentifikasi sebagai money laundry saya ('Is Laundering' == 1). Jumlah tupple/row yang diambil dair masing-masing dataset pun bukan diambil secara sembarangan. Saya sudah melakukan uji coba berupa trial and error dengan menyesuaikan memory yang dapat ditampung oleh device saya maisng-masing. Setelah melakukan beberapa kali trial and error, saya sepakat untuk mengambil row dari dataset 'Hi' yang teridentifikasi sebagai money laundry saja dari 50.000.000 row keseluruhan, dan mengambil row random pada dataset 'Li' sebanyak 100.000 row."
   ]
  },
  {
   "cell_type": "code",
   "execution_count": 1,
   "id": "92dd690a",
   "metadata": {},
   "outputs": [],
   "source": [
    "import pandas as pd\n",
    "import numpy as np\n",
    "\n",
    "# Membaca dua dataset\n",
    "df2 = pd.read_csv('C:/DSCO/HI-Large_Trans.csv', nrows=50000000)\n",
    "df1 = pd.read_csv('C:/DSCO/LI-Large_Trans.csv', nrows=100000)"
   ]
  },
  {
   "cell_type": "code",
   "execution_count": 2,
   "id": "2c45f0f3",
   "metadata": {},
   "outputs": [],
   "source": [
    "#df3 merupakan dataset yangs sama seperti df2 tetapi hanya berisi data yang 'Is Laundering' == 1 saja\n",
    "df3 = df2[df2['Is Laundering'] == 1]"
   ]
  },
  {
   "cell_type": "code",
   "execution_count": 3,
   "id": "ac89aab7",
   "metadata": {},
   "outputs": [
    {
     "data": {
      "text/html": [
       "<div>\n",
       "<style scoped>\n",
       "    .dataframe tbody tr th:only-of-type {\n",
       "        vertical-align: middle;\n",
       "    }\n",
       "\n",
       "    .dataframe tbody tr th {\n",
       "        vertical-align: top;\n",
       "    }\n",
       "\n",
       "    .dataframe thead th {\n",
       "        text-align: right;\n",
       "    }\n",
       "</style>\n",
       "<table border=\"1\" class=\"dataframe\">\n",
       "  <thead>\n",
       "    <tr style=\"text-align: right;\">\n",
       "      <th></th>\n",
       "      <th>Timestamp</th>\n",
       "      <th>From Bank</th>\n",
       "      <th>Account</th>\n",
       "      <th>To Bank</th>\n",
       "      <th>Account.1</th>\n",
       "      <th>Amount Received</th>\n",
       "      <th>Receiving Currency</th>\n",
       "      <th>Amount Paid</th>\n",
       "      <th>Payment Currency</th>\n",
       "      <th>Payment Format</th>\n",
       "      <th>Is Laundering</th>\n",
       "    </tr>\n",
       "  </thead>\n",
       "  <tbody>\n",
       "    <tr>\n",
       "      <th>27581</th>\n",
       "      <td>2022/08/01 00:19</td>\n",
       "      <td>70</td>\n",
       "      <td>100428660</td>\n",
       "      <td>8381</td>\n",
       "      <td>8035B3E00</td>\n",
       "      <td>27815.14</td>\n",
       "      <td>US Dollar</td>\n",
       "      <td>27815.14</td>\n",
       "      <td>US Dollar</td>\n",
       "      <td>Cheque</td>\n",
       "      <td>1</td>\n",
       "    </tr>\n",
       "    <tr>\n",
       "      <th>133037</th>\n",
       "      <td>2022/08/01 00:28</td>\n",
       "      <td>70</td>\n",
       "      <td>100428660</td>\n",
       "      <td>29630</td>\n",
       "      <td>814B11040</td>\n",
       "      <td>86532.59</td>\n",
       "      <td>US Dollar</td>\n",
       "      <td>86532.59</td>\n",
       "      <td>US Dollar</td>\n",
       "      <td>Cheque</td>\n",
       "      <td>1</td>\n",
       "    </tr>\n",
       "    <tr>\n",
       "      <th>141113</th>\n",
       "      <td>2022/08/01 00:06</td>\n",
       "      <td>215275</td>\n",
       "      <td>816439360</td>\n",
       "      <td>235985</td>\n",
       "      <td>816439870</td>\n",
       "      <td>4163.80</td>\n",
       "      <td>US Dollar</td>\n",
       "      <td>4163.80</td>\n",
       "      <td>US Dollar</td>\n",
       "      <td>ACH</td>\n",
       "      <td>1</td>\n",
       "    </tr>\n",
       "    <tr>\n",
       "      <th>154375</th>\n",
       "      <td>2022/08/01 00:05</td>\n",
       "      <td>70</td>\n",
       "      <td>100428660</td>\n",
       "      <td>220255</td>\n",
       "      <td>818305750</td>\n",
       "      <td>10111.03</td>\n",
       "      <td>US Dollar</td>\n",
       "      <td>10111.03</td>\n",
       "      <td>US Dollar</td>\n",
       "      <td>Cheque</td>\n",
       "      <td>1</td>\n",
       "    </tr>\n",
       "    <tr>\n",
       "      <th>161098</th>\n",
       "      <td>2022/08/01 00:16</td>\n",
       "      <td>70</td>\n",
       "      <td>100428660</td>\n",
       "      <td>1922</td>\n",
       "      <td>8192DF510</td>\n",
       "      <td>162.16</td>\n",
       "      <td>US Dollar</td>\n",
       "      <td>162.16</td>\n",
       "      <td>US Dollar</td>\n",
       "      <td>Cash</td>\n",
       "      <td>1</td>\n",
       "    </tr>\n",
       "    <tr>\n",
       "      <th>...</th>\n",
       "      <td>...</td>\n",
       "      <td>...</td>\n",
       "      <td>...</td>\n",
       "      <td>...</td>\n",
       "      <td>...</td>\n",
       "      <td>...</td>\n",
       "      <td>...</td>\n",
       "      <td>...</td>\n",
       "      <td>...</td>\n",
       "      <td>...</td>\n",
       "      <td>...</td>\n",
       "    </tr>\n",
       "    <tr>\n",
       "      <th>49995442</th>\n",
       "      <td>2022/08/27 07:19</td>\n",
       "      <td>70</td>\n",
       "      <td>1004289C0</td>\n",
       "      <td>182089</td>\n",
       "      <td>844A941C0</td>\n",
       "      <td>8830.49</td>\n",
       "      <td>Shekel</td>\n",
       "      <td>8830.49</td>\n",
       "      <td>Shekel</td>\n",
       "      <td>Cash</td>\n",
       "      <td>1</td>\n",
       "    </tr>\n",
       "    <tr>\n",
       "      <th>49995889</th>\n",
       "      <td>2022/08/27 07:18</td>\n",
       "      <td>70</td>\n",
       "      <td>1004289C0</td>\n",
       "      <td>1182567</td>\n",
       "      <td>849A81970</td>\n",
       "      <td>772.52</td>\n",
       "      <td>Shekel</td>\n",
       "      <td>772.52</td>\n",
       "      <td>Shekel</td>\n",
       "      <td>Cheque</td>\n",
       "      <td>1</td>\n",
       "    </tr>\n",
       "    <tr>\n",
       "      <th>49999427</th>\n",
       "      <td>2022/08/27 07:32</td>\n",
       "      <td>70</td>\n",
       "      <td>100428660</td>\n",
       "      <td>2102953</td>\n",
       "      <td>82621AFB0</td>\n",
       "      <td>206.57</td>\n",
       "      <td>US Dollar</td>\n",
       "      <td>206.57</td>\n",
       "      <td>US Dollar</td>\n",
       "      <td>Cheque</td>\n",
       "      <td>1</td>\n",
       "    </tr>\n",
       "    <tr>\n",
       "      <th>49999563</th>\n",
       "      <td>2022/08/27 07:42</td>\n",
       "      <td>14993</td>\n",
       "      <td>828972C00</td>\n",
       "      <td>194492</td>\n",
       "      <td>82897A990</td>\n",
       "      <td>16927.87</td>\n",
       "      <td>US Dollar</td>\n",
       "      <td>16927.87</td>\n",
       "      <td>US Dollar</td>\n",
       "      <td>Cheque</td>\n",
       "      <td>1</td>\n",
       "    </tr>\n",
       "    <tr>\n",
       "      <th>49999931</th>\n",
       "      <td>2022/08/27 07:31</td>\n",
       "      <td>2100740</td>\n",
       "      <td>82E2F86F0</td>\n",
       "      <td>1102747</td>\n",
       "      <td>82E2F8AE0</td>\n",
       "      <td>687.31</td>\n",
       "      <td>US Dollar</td>\n",
       "      <td>687.31</td>\n",
       "      <td>US Dollar</td>\n",
       "      <td>ACH</td>\n",
       "      <td>1</td>\n",
       "    </tr>\n",
       "  </tbody>\n",
       "</table>\n",
       "<p>57622 rows × 11 columns</p>\n",
       "</div>"
      ],
      "text/plain": [
       "                 Timestamp  From Bank    Account  To Bank  Account.1  \\\n",
       "27581     2022/08/01 00:19         70  100428660     8381  8035B3E00   \n",
       "133037    2022/08/01 00:28         70  100428660    29630  814B11040   \n",
       "141113    2022/08/01 00:06     215275  816439360   235985  816439870   \n",
       "154375    2022/08/01 00:05         70  100428660   220255  818305750   \n",
       "161098    2022/08/01 00:16         70  100428660     1922  8192DF510   \n",
       "...                    ...        ...        ...      ...        ...   \n",
       "49995442  2022/08/27 07:19         70  1004289C0   182089  844A941C0   \n",
       "49995889  2022/08/27 07:18         70  1004289C0  1182567  849A81970   \n",
       "49999427  2022/08/27 07:32         70  100428660  2102953  82621AFB0   \n",
       "49999563  2022/08/27 07:42      14993  828972C00   194492  82897A990   \n",
       "49999931  2022/08/27 07:31    2100740  82E2F86F0  1102747  82E2F8AE0   \n",
       "\n",
       "          Amount Received Receiving Currency  Amount Paid Payment Currency  \\\n",
       "27581            27815.14          US Dollar     27815.14        US Dollar   \n",
       "133037           86532.59          US Dollar     86532.59        US Dollar   \n",
       "141113            4163.80          US Dollar      4163.80        US Dollar   \n",
       "154375           10111.03          US Dollar     10111.03        US Dollar   \n",
       "161098             162.16          US Dollar       162.16        US Dollar   \n",
       "...                   ...                ...          ...              ...   \n",
       "49995442          8830.49             Shekel      8830.49           Shekel   \n",
       "49995889           772.52             Shekel       772.52           Shekel   \n",
       "49999427           206.57          US Dollar       206.57        US Dollar   \n",
       "49999563         16927.87          US Dollar     16927.87        US Dollar   \n",
       "49999931           687.31          US Dollar       687.31        US Dollar   \n",
       "\n",
       "         Payment Format  Is Laundering  \n",
       "27581            Cheque              1  \n",
       "133037           Cheque              1  \n",
       "141113              ACH              1  \n",
       "154375           Cheque              1  \n",
       "161098             Cash              1  \n",
       "...                 ...            ...  \n",
       "49995442           Cash              1  \n",
       "49995889         Cheque              1  \n",
       "49999427         Cheque              1  \n",
       "49999563         Cheque              1  \n",
       "49999931            ACH              1  \n",
       "\n",
       "[57622 rows x 11 columns]"
      ]
     },
     "execution_count": 3,
     "metadata": {},
     "output_type": "execute_result"
    }
   ],
   "source": [
    "df3"
   ]
  },
  {
   "cell_type": "code",
   "execution_count": 4,
   "id": "80be787f",
   "metadata": {},
   "outputs": [],
   "source": [
    "# saya membuat dataframe baru dengan nama 'df' untuk menggabungkan df1 dan df3 saja tanpa campuran dari df2\n",
    "# df2 tidak terpakai karena sudah digantikan dengan isi dari df3\n",
    "\n",
    "df = pd.concat([df1, df3], ignore_index=True)"
   ]
  },
  {
   "cell_type": "markdown",
   "id": "72a83f12",
   "metadata": {},
   "source": [
    "NOTES : Untuk menghindari seluruh data dari df1 berada diatas, sedangkan seluruh data df3 berada di bawah, saya menggunakan function shuffle dari library sklearn.utils untuk mengacak row pada df sehingga baik data dari df1 ataupun data dari df3 bisa tercampur"
   ]
  },
  {
   "cell_type": "code",
   "execution_count": 5,
   "id": "24f1b03b",
   "metadata": {},
   "outputs": [],
   "source": [
    "# Import Function shuffle  \n",
    "from sklearn.utils import shuffle\n",
    "df = shuffle(df).reset_index(drop=True)"
   ]
  },
  {
   "cell_type": "code",
   "execution_count": 6,
   "id": "07773459",
   "metadata": {},
   "outputs": [
    {
     "data": {
      "text/html": [
       "<div>\n",
       "<style scoped>\n",
       "    .dataframe tbody tr th:only-of-type {\n",
       "        vertical-align: middle;\n",
       "    }\n",
       "\n",
       "    .dataframe tbody tr th {\n",
       "        vertical-align: top;\n",
       "    }\n",
       "\n",
       "    .dataframe thead th {\n",
       "        text-align: right;\n",
       "    }\n",
       "</style>\n",
       "<table border=\"1\" class=\"dataframe\">\n",
       "  <thead>\n",
       "    <tr style=\"text-align: right;\">\n",
       "      <th></th>\n",
       "      <th>Timestamp</th>\n",
       "      <th>From Bank</th>\n",
       "      <th>Account</th>\n",
       "      <th>To Bank</th>\n",
       "      <th>Account.1</th>\n",
       "      <th>Amount Received</th>\n",
       "      <th>Receiving Currency</th>\n",
       "      <th>Amount Paid</th>\n",
       "      <th>Payment Currency</th>\n",
       "      <th>Payment Format</th>\n",
       "      <th>Is Laundering</th>\n",
       "    </tr>\n",
       "  </thead>\n",
       "  <tbody>\n",
       "    <tr>\n",
       "      <th>0</th>\n",
       "      <td>2022/08/24 04:56</td>\n",
       "      <td>8882</td>\n",
       "      <td>837D8FBE0</td>\n",
       "      <td>117497</td>\n",
       "      <td>837DA1A20</td>\n",
       "      <td>4807.91</td>\n",
       "      <td>US Dollar</td>\n",
       "      <td>4807.91</td>\n",
       "      <td>US Dollar</td>\n",
       "      <td>ACH</td>\n",
       "      <td>1</td>\n",
       "    </tr>\n",
       "    <tr>\n",
       "      <th>1</th>\n",
       "      <td>2022/09/04 15:27</td>\n",
       "      <td>237777</td>\n",
       "      <td>81A98D970</td>\n",
       "      <td>252706</td>\n",
       "      <td>8136116E0</td>\n",
       "      <td>5302.32</td>\n",
       "      <td>US Dollar</td>\n",
       "      <td>5302.32</td>\n",
       "      <td>US Dollar</td>\n",
       "      <td>ACH</td>\n",
       "      <td>1</td>\n",
       "    </tr>\n",
       "    <tr>\n",
       "      <th>2</th>\n",
       "      <td>2022/08/01 00:23</td>\n",
       "      <td>15781</td>\n",
       "      <td>803655070</td>\n",
       "      <td>15781</td>\n",
       "      <td>803655070</td>\n",
       "      <td>12370.70</td>\n",
       "      <td>US Dollar</td>\n",
       "      <td>12370.70</td>\n",
       "      <td>US Dollar</td>\n",
       "      <td>Reinvestment</td>\n",
       "      <td>0</td>\n",
       "    </tr>\n",
       "    <tr>\n",
       "      <th>3</th>\n",
       "      <td>2022/08/04 00:32</td>\n",
       "      <td>1213</td>\n",
       "      <td>8001CAB70</td>\n",
       "      <td>2609</td>\n",
       "      <td>8001FA180</td>\n",
       "      <td>8691042.90</td>\n",
       "      <td>Euro</td>\n",
       "      <td>8691042.90</td>\n",
       "      <td>Euro</td>\n",
       "      <td>ACH</td>\n",
       "      <td>1</td>\n",
       "    </tr>\n",
       "    <tr>\n",
       "      <th>4</th>\n",
       "      <td>2022/09/10 16:41</td>\n",
       "      <td>29574</td>\n",
       "      <td>803FCDA70</td>\n",
       "      <td>211052</td>\n",
       "      <td>805824F50</td>\n",
       "      <td>16473.56</td>\n",
       "      <td>US Dollar</td>\n",
       "      <td>16473.56</td>\n",
       "      <td>US Dollar</td>\n",
       "      <td>ACH</td>\n",
       "      <td>1</td>\n",
       "    </tr>\n",
       "    <tr>\n",
       "      <th>...</th>\n",
       "      <td>...</td>\n",
       "      <td>...</td>\n",
       "      <td>...</td>\n",
       "      <td>...</td>\n",
       "      <td>...</td>\n",
       "      <td>...</td>\n",
       "      <td>...</td>\n",
       "      <td>...</td>\n",
       "      <td>...</td>\n",
       "      <td>...</td>\n",
       "      <td>...</td>\n",
       "    </tr>\n",
       "    <tr>\n",
       "      <th>157617</th>\n",
       "      <td>2022/08/01 00:28</td>\n",
       "      <td>2310</td>\n",
       "      <td>800331C20</td>\n",
       "      <td>222457</td>\n",
       "      <td>80BA6B880</td>\n",
       "      <td>10337.17</td>\n",
       "      <td>US Dollar</td>\n",
       "      <td>10337.17</td>\n",
       "      <td>US Dollar</td>\n",
       "      <td>Cheque</td>\n",
       "      <td>0</td>\n",
       "    </tr>\n",
       "    <tr>\n",
       "      <th>157618</th>\n",
       "      <td>2022/08/01 00:11</td>\n",
       "      <td>29496</td>\n",
       "      <td>80E709470</td>\n",
       "      <td>29496</td>\n",
       "      <td>80E709470</td>\n",
       "      <td>1625.07</td>\n",
       "      <td>US Dollar</td>\n",
       "      <td>1625.07</td>\n",
       "      <td>US Dollar</td>\n",
       "      <td>Reinvestment</td>\n",
       "      <td>0</td>\n",
       "    </tr>\n",
       "    <tr>\n",
       "      <th>157619</th>\n",
       "      <td>2022/09/11 11:36</td>\n",
       "      <td>15830</td>\n",
       "      <td>802623AB0</td>\n",
       "      <td>1538</td>\n",
       "      <td>80331D710</td>\n",
       "      <td>5878.85</td>\n",
       "      <td>Euro</td>\n",
       "      <td>5878.85</td>\n",
       "      <td>Euro</td>\n",
       "      <td>ACH</td>\n",
       "      <td>1</td>\n",
       "    </tr>\n",
       "    <tr>\n",
       "      <th>157620</th>\n",
       "      <td>2022/08/15 11:18</td>\n",
       "      <td>272896</td>\n",
       "      <td>81BBEA160</td>\n",
       "      <td>272142</td>\n",
       "      <td>81C393430</td>\n",
       "      <td>1321737.77</td>\n",
       "      <td>Ruble</td>\n",
       "      <td>1321737.77</td>\n",
       "      <td>Ruble</td>\n",
       "      <td>ACH</td>\n",
       "      <td>1</td>\n",
       "    </tr>\n",
       "    <tr>\n",
       "      <th>157621</th>\n",
       "      <td>2022/08/01 00:08</td>\n",
       "      <td>15769</td>\n",
       "      <td>80439CAC0</td>\n",
       "      <td>15769</td>\n",
       "      <td>80439CAC0</td>\n",
       "      <td>6903.50</td>\n",
       "      <td>US Dollar</td>\n",
       "      <td>6903.50</td>\n",
       "      <td>US Dollar</td>\n",
       "      <td>Reinvestment</td>\n",
       "      <td>0</td>\n",
       "    </tr>\n",
       "  </tbody>\n",
       "</table>\n",
       "<p>157622 rows × 11 columns</p>\n",
       "</div>"
      ],
      "text/plain": [
       "               Timestamp  From Bank    Account  To Bank  Account.1  \\\n",
       "0       2022/08/24 04:56       8882  837D8FBE0   117497  837DA1A20   \n",
       "1       2022/09/04 15:27     237777  81A98D970   252706  8136116E0   \n",
       "2       2022/08/01 00:23      15781  803655070    15781  803655070   \n",
       "3       2022/08/04 00:32       1213  8001CAB70     2609  8001FA180   \n",
       "4       2022/09/10 16:41      29574  803FCDA70   211052  805824F50   \n",
       "...                  ...        ...        ...      ...        ...   \n",
       "157617  2022/08/01 00:28       2310  800331C20   222457  80BA6B880   \n",
       "157618  2022/08/01 00:11      29496  80E709470    29496  80E709470   \n",
       "157619  2022/09/11 11:36      15830  802623AB0     1538  80331D710   \n",
       "157620  2022/08/15 11:18     272896  81BBEA160   272142  81C393430   \n",
       "157621  2022/08/01 00:08      15769  80439CAC0    15769  80439CAC0   \n",
       "\n",
       "        Amount Received Receiving Currency  Amount Paid Payment Currency  \\\n",
       "0               4807.91          US Dollar      4807.91        US Dollar   \n",
       "1               5302.32          US Dollar      5302.32        US Dollar   \n",
       "2              12370.70          US Dollar     12370.70        US Dollar   \n",
       "3            8691042.90               Euro   8691042.90             Euro   \n",
       "4              16473.56          US Dollar     16473.56        US Dollar   \n",
       "...                 ...                ...          ...              ...   \n",
       "157617         10337.17          US Dollar     10337.17        US Dollar   \n",
       "157618          1625.07          US Dollar      1625.07        US Dollar   \n",
       "157619          5878.85               Euro      5878.85             Euro   \n",
       "157620       1321737.77              Ruble   1321737.77            Ruble   \n",
       "157621          6903.50          US Dollar      6903.50        US Dollar   \n",
       "\n",
       "       Payment Format  Is Laundering  \n",
       "0                 ACH              1  \n",
       "1                 ACH              1  \n",
       "2        Reinvestment              0  \n",
       "3                 ACH              1  \n",
       "4                 ACH              1  \n",
       "...               ...            ...  \n",
       "157617         Cheque              0  \n",
       "157618   Reinvestment              0  \n",
       "157619            ACH              1  \n",
       "157620            ACH              1  \n",
       "157621   Reinvestment              0  \n",
       "\n",
       "[157622 rows x 11 columns]"
      ]
     },
     "execution_count": 6,
     "metadata": {},
     "output_type": "execute_result"
    }
   ],
   "source": [
    "df"
   ]
  },
  {
   "cell_type": "markdown",
   "id": "8047e143",
   "metadata": {},
   "source": [
    "## Check Overview Data\n",
    "Pada bagian Check Overview Data, saya ingin melihat kondisi data saya secara keseluruhan. Pada bagian ini lah saya dapat mengetahui dan mengenal dataset yang akan saya olah selanjutnya. Bagi saya, melakukan Checking secara kasar diawal pemrosesan data sangatlah penting. Salah satu tujuan utama saya mengenal dataset saya diawal adalah agar saya dapat mengetahui langkah apa yang harus saya lakukan selanjutnya."
   ]
  },
  {
   "cell_type": "code",
   "execution_count": 7,
   "id": "b55196f1",
   "metadata": {},
   "outputs": [
    {
     "data": {
      "text/plain": [
       "0    99997\n",
       "1    57625\n",
       "Name: Is Laundering, dtype: int64"
      ]
     },
     "execution_count": 7,
     "metadata": {},
     "output_type": "execute_result"
    }
   ],
   "source": [
    "# Check jumlah data yang teridentifikasi sebagai money laundry dan yang tidak.\n",
    "# terlihat bahwa data sudah cukup seimbang\n",
    "\n",
    "df['Is Laundering'].value_counts()"
   ]
  },
  {
   "cell_type": "code",
   "execution_count": 8,
   "id": "da785729",
   "metadata": {},
   "outputs": [
    {
     "data": {
      "text/plain": [
       "(157622, 11)"
      ]
     },
     "execution_count": 8,
     "metadata": {},
     "output_type": "execute_result"
    }
   ],
   "source": [
    "#check dimensi data\n",
    "df.shape"
   ]
  },
  {
   "cell_type": "code",
   "execution_count": 9,
   "id": "1c1d321c",
   "metadata": {},
   "outputs": [
    {
     "name": "stdout",
     "output_type": "stream",
     "text": [
      "<class 'pandas.core.frame.DataFrame'>\n",
      "RangeIndex: 157622 entries, 0 to 157621\n",
      "Data columns (total 11 columns):\n",
      " #   Column              Non-Null Count   Dtype  \n",
      "---  ------              --------------   -----  \n",
      " 0   Timestamp           157622 non-null  object \n",
      " 1   From Bank           157622 non-null  int64  \n",
      " 2   Account             157622 non-null  object \n",
      " 3   To Bank             157622 non-null  int64  \n",
      " 4   Account.1           157622 non-null  object \n",
      " 5   Amount Received     157622 non-null  float64\n",
      " 6   Receiving Currency  157622 non-null  object \n",
      " 7   Amount Paid         157622 non-null  float64\n",
      " 8   Payment Currency    157622 non-null  object \n",
      " 9   Payment Format      157622 non-null  object \n",
      " 10  Is Laundering       157622 non-null  int64  \n",
      "dtypes: float64(2), int64(3), object(6)\n",
      "memory usage: 13.2+ MB\n"
     ]
    }
   ],
   "source": [
    "#check informasi masing-masing Feature\n",
    "df.info()"
   ]
  },
  {
   "cell_type": "code",
   "execution_count": 10,
   "id": "71914f30",
   "metadata": {},
   "outputs": [
    {
     "data": {
      "text/plain": [
       "Timestamp              38928\n",
       "From Bank               9097\n",
       "Account               109932\n",
       "To Bank                 9829\n",
       "Account.1             116236\n",
       "Amount Received       123447\n",
       "Receiving Currency        15\n",
       "Amount Paid           123609\n",
       "Payment Currency          15\n",
       "Payment Format             7\n",
       "Is Laundering              2\n",
       "dtype: int64"
      ]
     },
     "execution_count": 10,
     "metadata": {},
     "output_type": "execute_result"
    }
   ],
   "source": [
    "#check variasi data dari tiap Feature\n",
    "df.nunique()"
   ]
  },
  {
   "cell_type": "markdown",
   "id": "44cf102f",
   "metadata": {},
   "source": [
    "## Check Missing Value\n",
    "Langkah selanjutnya adalah pengecekan missing value dari masing-masing feature. saya cukup beruntung mendapat data yang tidak ada missing valuenya sama sekali sehingga dapat memudahkan dalam pemrosesan data. Jika dataset memiliki beberapa missing value pada suatu featurenya, maka saya harus meng-impute data yang tidak ada tersebut berdasarkan nilai statistik deskriptif datanya dengan aturan dasar :\n",
    "\n",
    "*) Jika data numerik kontinu : menggunakan mean\n",
    "\n",
    "*) Jika data numerik diskrit : menggunakan median/modus\n",
    "\n",
    "*) Jika data kategorik : menggunakan modus\n",
    "\n",
    "\n",
    "NOTES : aturan-aturan tersebut dapat disesuaikan dengan kondisi dataset (tidak pasti)"
   ]
  },
  {
   "cell_type": "code",
   "execution_count": 11,
   "id": "48042a0a",
   "metadata": {},
   "outputs": [
    {
     "data": {
      "text/plain": [
       "Timestamp             0\n",
       "From Bank             0\n",
       "Account               0\n",
       "To Bank               0\n",
       "Account.1             0\n",
       "Amount Received       0\n",
       "Receiving Currency    0\n",
       "Amount Paid           0\n",
       "Payment Currency      0\n",
       "Payment Format        0\n",
       "Is Laundering         0\n",
       "dtype: int64"
      ]
     },
     "execution_count": 11,
     "metadata": {},
     "output_type": "execute_result"
    }
   ],
   "source": [
    "# Check Missing Value pada masing-masing feature\n",
    "df.isna().sum() "
   ]
  },
  {
   "cell_type": "markdown",
   "id": "83d12eba",
   "metadata": {},
   "source": [
    "## Check Outliers\n",
    "Outlier merupakan data yang menyimpang secara ekstrim (jauh) dari rata-rata sekumpulan data yang ada. Dalam praktik, biasanya data yang merupakan nilai outliers harus diperlakukan secara khusus. Umumnya ada 2 cara untuk memperlakukan Outliers seperti menghapusnya atau menggantinya dengan rata-rata/mean/modus dari sekumpulan data yang ada. Pertama, mari kita mencari data mana saja yang teridentifikasi sebagai outliers."
   ]
  },
  {
   "cell_type": "code",
   "execution_count": 12,
   "id": "91c5b335",
   "metadata": {},
   "outputs": [
    {
     "data": {
      "text/html": [
       "<div>\n",
       "<style scoped>\n",
       "    .dataframe tbody tr th:only-of-type {\n",
       "        vertical-align: middle;\n",
       "    }\n",
       "\n",
       "    .dataframe tbody tr th {\n",
       "        vertical-align: top;\n",
       "    }\n",
       "\n",
       "    .dataframe thead th {\n",
       "        text-align: right;\n",
       "    }\n",
       "</style>\n",
       "<table border=\"1\" class=\"dataframe\">\n",
       "  <thead>\n",
       "    <tr style=\"text-align: right;\">\n",
       "      <th></th>\n",
       "      <th>Timestamp</th>\n",
       "      <th>From Bank</th>\n",
       "      <th>Account</th>\n",
       "      <th>To Bank</th>\n",
       "      <th>Account.1</th>\n",
       "      <th>Amount Received</th>\n",
       "      <th>Receiving Currency</th>\n",
       "      <th>Amount Paid</th>\n",
       "      <th>Payment Currency</th>\n",
       "      <th>Payment Format</th>\n",
       "      <th>Is Laundering</th>\n",
       "    </tr>\n",
       "  </thead>\n",
       "  <tbody>\n",
       "    <tr>\n",
       "      <th>0</th>\n",
       "      <td>2022/08/24 04:56</td>\n",
       "      <td>8882</td>\n",
       "      <td>837D8FBE0</td>\n",
       "      <td>117497</td>\n",
       "      <td>837DA1A20</td>\n",
       "      <td>4807.91</td>\n",
       "      <td>US Dollar</td>\n",
       "      <td>4807.91</td>\n",
       "      <td>US Dollar</td>\n",
       "      <td>ACH</td>\n",
       "      <td>1</td>\n",
       "    </tr>\n",
       "    <tr>\n",
       "      <th>1</th>\n",
       "      <td>2022/09/04 15:27</td>\n",
       "      <td>237777</td>\n",
       "      <td>81A98D970</td>\n",
       "      <td>252706</td>\n",
       "      <td>8136116E0</td>\n",
       "      <td>5302.32</td>\n",
       "      <td>US Dollar</td>\n",
       "      <td>5302.32</td>\n",
       "      <td>US Dollar</td>\n",
       "      <td>ACH</td>\n",
       "      <td>1</td>\n",
       "    </tr>\n",
       "    <tr>\n",
       "      <th>2</th>\n",
       "      <td>2022/08/01 00:23</td>\n",
       "      <td>15781</td>\n",
       "      <td>803655070</td>\n",
       "      <td>15781</td>\n",
       "      <td>803655070</td>\n",
       "      <td>12370.70</td>\n",
       "      <td>US Dollar</td>\n",
       "      <td>12370.70</td>\n",
       "      <td>US Dollar</td>\n",
       "      <td>Reinvestment</td>\n",
       "      <td>0</td>\n",
       "    </tr>\n",
       "    <tr>\n",
       "      <th>3</th>\n",
       "      <td>2022/08/04 00:32</td>\n",
       "      <td>1213</td>\n",
       "      <td>8001CAB70</td>\n",
       "      <td>2609</td>\n",
       "      <td>8001FA180</td>\n",
       "      <td>8691042.90</td>\n",
       "      <td>Euro</td>\n",
       "      <td>8691042.90</td>\n",
       "      <td>Euro</td>\n",
       "      <td>ACH</td>\n",
       "      <td>1</td>\n",
       "    </tr>\n",
       "    <tr>\n",
       "      <th>4</th>\n",
       "      <td>2022/09/10 16:41</td>\n",
       "      <td>29574</td>\n",
       "      <td>803FCDA70</td>\n",
       "      <td>211052</td>\n",
       "      <td>805824F50</td>\n",
       "      <td>16473.56</td>\n",
       "      <td>US Dollar</td>\n",
       "      <td>16473.56</td>\n",
       "      <td>US Dollar</td>\n",
       "      <td>ACH</td>\n",
       "      <td>1</td>\n",
       "    </tr>\n",
       "  </tbody>\n",
       "</table>\n",
       "</div>"
      ],
      "text/plain": [
       "          Timestamp  From Bank    Account  To Bank  Account.1  \\\n",
       "0  2022/08/24 04:56       8882  837D8FBE0   117497  837DA1A20   \n",
       "1  2022/09/04 15:27     237777  81A98D970   252706  8136116E0   \n",
       "2  2022/08/01 00:23      15781  803655070    15781  803655070   \n",
       "3  2022/08/04 00:32       1213  8001CAB70     2609  8001FA180   \n",
       "4  2022/09/10 16:41      29574  803FCDA70   211052  805824F50   \n",
       "\n",
       "   Amount Received Receiving Currency  Amount Paid Payment Currency  \\\n",
       "0          4807.91          US Dollar      4807.91        US Dollar   \n",
       "1          5302.32          US Dollar      5302.32        US Dollar   \n",
       "2         12370.70          US Dollar     12370.70        US Dollar   \n",
       "3       8691042.90               Euro   8691042.90             Euro   \n",
       "4         16473.56          US Dollar     16473.56        US Dollar   \n",
       "\n",
       "  Payment Format  Is Laundering  \n",
       "0            ACH              1  \n",
       "1            ACH              1  \n",
       "2   Reinvestment              0  \n",
       "3            ACH              1  \n",
       "4            ACH              1  "
      ]
     },
     "execution_count": 12,
     "metadata": {},
     "output_type": "execute_result"
    }
   ],
   "source": [
    "# melihat 5 tupple data paling atas dari dataframe 'df'\n",
    "df.head()"
   ]
  },
  {
   "cell_type": "code",
   "execution_count": 13,
   "id": "7e44398c",
   "metadata": {},
   "outputs": [
    {
     "data": {
      "text/plain": [
       "(157622, 11)"
      ]
     },
     "execution_count": 13,
     "metadata": {},
     "output_type": "execute_result"
    }
   ],
   "source": [
    "# melihat dimensi dataframe\n",
    "df.shape"
   ]
  },
  {
   "cell_type": "markdown",
   "id": "ccea737e",
   "metadata": {},
   "source": [
    "Salah satu metode untuk melihat dan mengumpulkan data outliers adalah dengan mencari data yang lebih kecil dari mean - (3 * standar deviasi) nya ATAU lebih besar dari mean + (3 * standar deviasi) nya. Metode dibawah ini dapat mengidentifikasikan apakah satu transaksi memiliki nilai outliers pada kolom 'Amount Received'nya atau tidak."
   ]
  },
  {
   "cell_type": "code",
   "execution_count": 14,
   "id": "adae2359",
   "metadata": {},
   "outputs": [
    {
     "name": "stdout",
     "output_type": "stream",
     "text": [
      "[6.75961604e+11 6.87801589e+09 6.15553603e+10 2.19763435e+10\n",
      " 1.46591751e+11 2.04314907e+10 2.25387209e+11 1.11268094e+10\n",
      " 6.88899462e+09 1.72983587e+10 3.31445671e+10 8.44473454e+09\n",
      " 6.64426497e+09 2.95988890e+10 1.64803850e+10 2.43018696e+11\n",
      " 1.95491079e+10 7.69803230e+09 2.92897553e+11 5.07450890e+10\n",
      " 7.18714109e+10 1.60987422e+10 1.42127118e+10 1.95446343e+10\n",
      " 1.30051514e+11 8.41429155e+09 2.47117868e+10 9.74348109e+09\n",
      " 1.79171777e+10 4.38234061e+10 7.93900458e+09 1.21622639e+11\n",
      " 1.79229410e+10 1.49241228e+10 1.14681755e+11 7.05811815e+09\n",
      " 7.17401506e+09 1.99225033e+10 1.08150963e+11 6.69439520e+10\n",
      " 3.75100076e+10 7.30597029e+10 2.86331831e+10 2.00563118e+10\n",
      " 1.38513550e+10]\n"
     ]
    }
   ],
   "source": [
    "#Identifikasi Value Outliers\n",
    "mean = df['Amount Received'].mean()\n",
    "std = df['Amount Received'].std()\n",
    "Tmin = mean - (3 * std)\n",
    "Tmax = mean + (3 * std)\n",
    "\n",
    "# menampilkan value dari kolom 'Amount Received' yang kurang dari Tmin atau lebih besar dari Tmax\n",
    "filtered_values = df[(df['Amount Received'] < Tmin) | (df['Amount Received'] > Tmax)]['Amount Received'].values\n",
    "print(filtered_values)"
   ]
  },
  {
   "cell_type": "code",
   "execution_count": 15,
   "id": "17902043",
   "metadata": {},
   "outputs": [
    {
     "name": "stdout",
     "output_type": "stream",
     "text": [
      "Jumlah data yang teridentifikasi sebagai Outliers: 45\n"
     ]
    }
   ],
   "source": [
    "# Melihat jumlah data yang teridentifikasi oleh filtered_values\n",
    "jumlah_data_teridentifikasi = len(filtered_values)\n",
    "print(\"Jumlah data yang teridentifikasi sebagai Outliers:\", jumlah_data_teridentifikasi)"
   ]
  },
  {
   "cell_type": "markdown",
   "id": "8b56a93c",
   "metadata": {},
   "source": [
    "Ketika kita sudah mengetahui data mana saja kah yang teridentifikasi outliers, langkah selanjutnya adalah menentukan perlakukan khusus pada outliers (dihiraukan/dihapus/dimanipulasi). saya sengaja untuk tidak langsung menghapus nilai-nilai outliers karena saya memiliki sebuah kecurigaan bahwa bisa saja pelaku money laundry menerima jumlah uang dari akun transaksi asal yang tidak biasa atau yang menyimpang ekstrim dari rata-rata kebanyakan orang.\n",
    "\n",
    "Untuk menentukan tindakan apa yang masuk akal pada outliers dalam kasus money laundry ini, kita perlu melihat berapa banyak data outliers yang teridentifikasi money laundry dan berapa banyak yang tidak teridentifikasi sebagai money laundry."
   ]
  },
  {
   "cell_type": "code",
   "execution_count": 16,
   "id": "1d9e6520",
   "metadata": {},
   "outputs": [
    {
     "name": "stdout",
     "output_type": "stream",
     "text": [
      "Jumlah masing-masing nilai unik dalam kolom 'Is Laundering':\n",
      " 1    45\n",
      "Name: Is Laundering, dtype: int64\n"
     ]
    }
   ],
   "source": [
    "# Menampilkan data yang sesuai dalam bentuk dataframe\n",
    "outliers_dataframe = df[(df['Amount Received'] < Tmin) | (df['Amount Received'] > Tmax)]\n",
    "\n",
    "# Menampilkan jumlah nilai unik dalam kolom 'Is Laundering' dari DataFrame outliers_dataframe\n",
    "count_is_laundering = outliers_dataframe['Is Laundering'].value_counts()\n",
    "print(\"Jumlah masing-masing nilai unik dalam kolom 'Is Laundering':\\n\", count_is_laundering)"
   ]
  },
  {
   "cell_type": "code",
   "execution_count": 17,
   "id": "b74ffa16",
   "metadata": {},
   "outputs": [
    {
     "data": {
      "text/html": [
       "<div>\n",
       "<style scoped>\n",
       "    .dataframe tbody tr th:only-of-type {\n",
       "        vertical-align: middle;\n",
       "    }\n",
       "\n",
       "    .dataframe tbody tr th {\n",
       "        vertical-align: top;\n",
       "    }\n",
       "\n",
       "    .dataframe thead th {\n",
       "        text-align: right;\n",
       "    }\n",
       "</style>\n",
       "<table border=\"1\" class=\"dataframe\">\n",
       "  <thead>\n",
       "    <tr style=\"text-align: right;\">\n",
       "      <th></th>\n",
       "      <th>Timestamp</th>\n",
       "      <th>From Bank</th>\n",
       "      <th>Account</th>\n",
       "      <th>To Bank</th>\n",
       "      <th>Account.1</th>\n",
       "      <th>Amount Received</th>\n",
       "      <th>Receiving Currency</th>\n",
       "      <th>Amount Paid</th>\n",
       "      <th>Payment Currency</th>\n",
       "      <th>Payment Format</th>\n",
       "      <th>Is Laundering</th>\n",
       "    </tr>\n",
       "  </thead>\n",
       "  <tbody>\n",
       "    <tr>\n",
       "      <th>3171</th>\n",
       "      <td>2022/08/19 17:43</td>\n",
       "      <td>266946</td>\n",
       "      <td>81A2D04C0</td>\n",
       "      <td>266946</td>\n",
       "      <td>81A4AFE20</td>\n",
       "      <td>6.759616e+11</td>\n",
       "      <td>Ruble</td>\n",
       "      <td>6.759616e+11</td>\n",
       "      <td>Ruble</td>\n",
       "      <td>ACH</td>\n",
       "      <td>1</td>\n",
       "    </tr>\n",
       "    <tr>\n",
       "      <th>7034</th>\n",
       "      <td>2022/08/12 07:36</td>\n",
       "      <td>262657</td>\n",
       "      <td>81A536E10</td>\n",
       "      <td>282</td>\n",
       "      <td>81C394920</td>\n",
       "      <td>6.878016e+09</td>\n",
       "      <td>Ruble</td>\n",
       "      <td>6.878016e+09</td>\n",
       "      <td>Ruble</td>\n",
       "      <td>ACH</td>\n",
       "      <td>1</td>\n",
       "    </tr>\n",
       "    <tr>\n",
       "      <th>10932</th>\n",
       "      <td>2022/08/08 23:35</td>\n",
       "      <td>1140210</td>\n",
       "      <td>8363E1100</td>\n",
       "      <td>2148462</td>\n",
       "      <td>8363E8250</td>\n",
       "      <td>6.155536e+10</td>\n",
       "      <td>Mexican Peso</td>\n",
       "      <td>6.155536e+10</td>\n",
       "      <td>Mexican Peso</td>\n",
       "      <td>ACH</td>\n",
       "      <td>1</td>\n",
       "    </tr>\n",
       "    <tr>\n",
       "      <th>11321</th>\n",
       "      <td>2022/08/28 16:07</td>\n",
       "      <td>16098</td>\n",
       "      <td>810B51C30</td>\n",
       "      <td>39424</td>\n",
       "      <td>8129FA8A0</td>\n",
       "      <td>2.197634e+10</td>\n",
       "      <td>Yen</td>\n",
       "      <td>2.197634e+10</td>\n",
       "      <td>Yen</td>\n",
       "      <td>ACH</td>\n",
       "      <td>1</td>\n",
       "    </tr>\n",
       "    <tr>\n",
       "      <th>15402</th>\n",
       "      <td>2022/08/04 04:06</td>\n",
       "      <td>246487</td>\n",
       "      <td>8120F9710</td>\n",
       "      <td>234541</td>\n",
       "      <td>8120F9B20</td>\n",
       "      <td>1.465918e+11</td>\n",
       "      <td>Yuan</td>\n",
       "      <td>1.465918e+11</td>\n",
       "      <td>Yuan</td>\n",
       "      <td>ACH</td>\n",
       "      <td>1</td>\n",
       "    </tr>\n",
       "    <tr>\n",
       "      <th>16099</th>\n",
       "      <td>2022/08/27 05:53</td>\n",
       "      <td>4563</td>\n",
       "      <td>80320C490</td>\n",
       "      <td>18140</td>\n",
       "      <td>8140BC700</td>\n",
       "      <td>2.043149e+10</td>\n",
       "      <td>Yen</td>\n",
       "      <td>2.043149e+10</td>\n",
       "      <td>Yen</td>\n",
       "      <td>ACH</td>\n",
       "      <td>1</td>\n",
       "    </tr>\n",
       "    <tr>\n",
       "      <th>18370</th>\n",
       "      <td>2022/08/20 08:53</td>\n",
       "      <td>255595</td>\n",
       "      <td>827540950</td>\n",
       "      <td>54448</td>\n",
       "      <td>827540C90</td>\n",
       "      <td>2.253872e+11</td>\n",
       "      <td>Yen</td>\n",
       "      <td>2.253872e+11</td>\n",
       "      <td>Yen</td>\n",
       "      <td>Cheque</td>\n",
       "      <td>1</td>\n",
       "    </tr>\n",
       "    <tr>\n",
       "      <th>26280</th>\n",
       "      <td>2022/08/28 09:32</td>\n",
       "      <td>233615</td>\n",
       "      <td>814E59050</td>\n",
       "      <td>179275</td>\n",
       "      <td>81D6C6C40</td>\n",
       "      <td>1.112681e+10</td>\n",
       "      <td>Ruble</td>\n",
       "      <td>1.112681e+10</td>\n",
       "      <td>Ruble</td>\n",
       "      <td>ACH</td>\n",
       "      <td>1</td>\n",
       "    </tr>\n",
       "    <tr>\n",
       "      <th>34750</th>\n",
       "      <td>2022/08/21 18:08</td>\n",
       "      <td>40999</td>\n",
       "      <td>8101CDD20</td>\n",
       "      <td>140756</td>\n",
       "      <td>8110B4520</td>\n",
       "      <td>6.888995e+09</td>\n",
       "      <td>Yuan</td>\n",
       "      <td>6.888995e+09</td>\n",
       "      <td>Yuan</td>\n",
       "      <td>ACH</td>\n",
       "      <td>1</td>\n",
       "    </tr>\n",
       "    <tr>\n",
       "      <th>43383</th>\n",
       "      <td>2022/08/27 18:54</td>\n",
       "      <td>180965</td>\n",
       "      <td>820A0E4D0</td>\n",
       "      <td>35634</td>\n",
       "      <td>80F49B880</td>\n",
       "      <td>1.729836e+10</td>\n",
       "      <td>Yuan</td>\n",
       "      <td>1.729836e+10</td>\n",
       "      <td>Yuan</td>\n",
       "      <td>ACH</td>\n",
       "      <td>1</td>\n",
       "    </tr>\n",
       "    <tr>\n",
       "      <th>47353</th>\n",
       "      <td>2022/08/25 10:20</td>\n",
       "      <td>118693</td>\n",
       "      <td>84AF25B80</td>\n",
       "      <td>1200619</td>\n",
       "      <td>84AF29E70</td>\n",
       "      <td>3.314457e+10</td>\n",
       "      <td>US Dollar</td>\n",
       "      <td>3.314457e+10</td>\n",
       "      <td>US Dollar</td>\n",
       "      <td>ACH</td>\n",
       "      <td>1</td>\n",
       "    </tr>\n",
       "    <tr>\n",
       "      <th>49872</th>\n",
       "      <td>2022/10/25 06:39</td>\n",
       "      <td>25444</td>\n",
       "      <td>802651460</td>\n",
       "      <td>159278</td>\n",
       "      <td>81754CB40</td>\n",
       "      <td>8.444735e+09</td>\n",
       "      <td>Rupee</td>\n",
       "      <td>8.444735e+09</td>\n",
       "      <td>Rupee</td>\n",
       "      <td>ACH</td>\n",
       "      <td>1</td>\n",
       "    </tr>\n",
       "    <tr>\n",
       "      <th>60215</th>\n",
       "      <td>2022/09/13 18:56</td>\n",
       "      <td>15</td>\n",
       "      <td>8000EC410</td>\n",
       "      <td>220</td>\n",
       "      <td>8000EED80</td>\n",
       "      <td>6.644265e+09</td>\n",
       "      <td>Shekel</td>\n",
       "      <td>6.644265e+09</td>\n",
       "      <td>Shekel</td>\n",
       "      <td>ACH</td>\n",
       "      <td>1</td>\n",
       "    </tr>\n",
       "    <tr>\n",
       "      <th>61924</th>\n",
       "      <td>2022/09/06 13:06</td>\n",
       "      <td>17976</td>\n",
       "      <td>81B3BA5D0</td>\n",
       "      <td>153814</td>\n",
       "      <td>814125170</td>\n",
       "      <td>2.959889e+10</td>\n",
       "      <td>Yen</td>\n",
       "      <td>2.959889e+10</td>\n",
       "      <td>Yen</td>\n",
       "      <td>ACH</td>\n",
       "      <td>1</td>\n",
       "    </tr>\n",
       "    <tr>\n",
       "      <th>62547</th>\n",
       "      <td>2022/08/13 12:45</td>\n",
       "      <td>1181597</td>\n",
       "      <td>84313A960</td>\n",
       "      <td>182063</td>\n",
       "      <td>84313B6E0</td>\n",
       "      <td>1.648039e+10</td>\n",
       "      <td>Shekel</td>\n",
       "      <td>1.648039e+10</td>\n",
       "      <td>Shekel</td>\n",
       "      <td>Cheque</td>\n",
       "      <td>1</td>\n",
       "    </tr>\n",
       "    <tr>\n",
       "      <th>67134</th>\n",
       "      <td>2022/08/14 16:33</td>\n",
       "      <td>25935</td>\n",
       "      <td>82170BFC0</td>\n",
       "      <td>137768</td>\n",
       "      <td>812CEEB40</td>\n",
       "      <td>2.430187e+11</td>\n",
       "      <td>Yen</td>\n",
       "      <td>2.430187e+11</td>\n",
       "      <td>Yen</td>\n",
       "      <td>ACH</td>\n",
       "      <td>1</td>\n",
       "    </tr>\n",
       "    <tr>\n",
       "      <th>79078</th>\n",
       "      <td>2022/08/12 18:48</td>\n",
       "      <td>210658</td>\n",
       "      <td>8041F1380</td>\n",
       "      <td>1922</td>\n",
       "      <td>80420B3E0</td>\n",
       "      <td>1.954911e+10</td>\n",
       "      <td>US Dollar</td>\n",
       "      <td>1.954911e+10</td>\n",
       "      <td>US Dollar</td>\n",
       "      <td>ACH</td>\n",
       "      <td>1</td>\n",
       "    </tr>\n",
       "    <tr>\n",
       "      <th>80496</th>\n",
       "      <td>2022/08/22 21:30</td>\n",
       "      <td>27</td>\n",
       "      <td>817C00620</td>\n",
       "      <td>4</td>\n",
       "      <td>817C00710</td>\n",
       "      <td>7.698032e+09</td>\n",
       "      <td>Rupee</td>\n",
       "      <td>7.698032e+09</td>\n",
       "      <td>Rupee</td>\n",
       "      <td>ACH</td>\n",
       "      <td>1</td>\n",
       "    </tr>\n",
       "    <tr>\n",
       "      <th>80927</th>\n",
       "      <td>2022/08/30 13:16</td>\n",
       "      <td>23351</td>\n",
       "      <td>805E42F30</td>\n",
       "      <td>251758</td>\n",
       "      <td>814C098C0</td>\n",
       "      <td>2.928976e+11</td>\n",
       "      <td>Yen</td>\n",
       "      <td>2.928976e+11</td>\n",
       "      <td>Yen</td>\n",
       "      <td>ACH</td>\n",
       "      <td>1</td>\n",
       "    </tr>\n",
       "    <tr>\n",
       "      <th>82840</th>\n",
       "      <td>2022/08/25 15:02</td>\n",
       "      <td>221413</td>\n",
       "      <td>8154A3480</td>\n",
       "      <td>3</td>\n",
       "      <td>8133FB060</td>\n",
       "      <td>5.074509e+10</td>\n",
       "      <td>Yen</td>\n",
       "      <td>5.074509e+10</td>\n",
       "      <td>Yen</td>\n",
       "      <td>ACH</td>\n",
       "      <td>1</td>\n",
       "    </tr>\n",
       "    <tr>\n",
       "      <th>84392</th>\n",
       "      <td>2022/08/04 09:40</td>\n",
       "      <td>160525</td>\n",
       "      <td>818552BA0</td>\n",
       "      <td>165793</td>\n",
       "      <td>8185679C0</td>\n",
       "      <td>7.187141e+10</td>\n",
       "      <td>Rupee</td>\n",
       "      <td>7.187141e+10</td>\n",
       "      <td>Rupee</td>\n",
       "      <td>ACH</td>\n",
       "      <td>1</td>\n",
       "    </tr>\n",
       "    <tr>\n",
       "      <th>84610</th>\n",
       "      <td>2022/08/23 17:10</td>\n",
       "      <td>135395</td>\n",
       "      <td>81C91E330</td>\n",
       "      <td>28905</td>\n",
       "      <td>80CA66B30</td>\n",
       "      <td>1.609874e+10</td>\n",
       "      <td>Yuan</td>\n",
       "      <td>1.609874e+10</td>\n",
       "      <td>Yuan</td>\n",
       "      <td>ACH</td>\n",
       "      <td>1</td>\n",
       "    </tr>\n",
       "    <tr>\n",
       "      <th>97919</th>\n",
       "      <td>2022/08/02 07:35</td>\n",
       "      <td>15019</td>\n",
       "      <td>807933420</td>\n",
       "      <td>254374</td>\n",
       "      <td>814201090</td>\n",
       "      <td>1.421271e+10</td>\n",
       "      <td>Yen</td>\n",
       "      <td>1.421271e+10</td>\n",
       "      <td>Yen</td>\n",
       "      <td>ACH</td>\n",
       "      <td>1</td>\n",
       "    </tr>\n",
       "    <tr>\n",
       "      <th>98954</th>\n",
       "      <td>2022/08/08 22:41</td>\n",
       "      <td>286535</td>\n",
       "      <td>84B276B80</td>\n",
       "      <td>273752</td>\n",
       "      <td>84B2770D0</td>\n",
       "      <td>1.954463e+10</td>\n",
       "      <td>Ruble</td>\n",
       "      <td>1.954463e+10</td>\n",
       "      <td>Ruble</td>\n",
       "      <td>Cheque</td>\n",
       "      <td>1</td>\n",
       "    </tr>\n",
       "    <tr>\n",
       "      <th>103355</th>\n",
       "      <td>2022/10/07 07:10</td>\n",
       "      <td>172156</td>\n",
       "      <td>81BF8B070</td>\n",
       "      <td>282</td>\n",
       "      <td>81B272210</td>\n",
       "      <td>1.300515e+11</td>\n",
       "      <td>Ruble</td>\n",
       "      <td>1.300515e+11</td>\n",
       "      <td>Ruble</td>\n",
       "      <td>ACH</td>\n",
       "      <td>1</td>\n",
       "    </tr>\n",
       "    <tr>\n",
       "      <th>103712</th>\n",
       "      <td>2022/09/14 17:27</td>\n",
       "      <td>12284</td>\n",
       "      <td>80BA79D40</td>\n",
       "      <td>52134</td>\n",
       "      <td>813690A30</td>\n",
       "      <td>8.414292e+09</td>\n",
       "      <td>Yen</td>\n",
       "      <td>8.414292e+09</td>\n",
       "      <td>Yen</td>\n",
       "      <td>ACH</td>\n",
       "      <td>1</td>\n",
       "    </tr>\n",
       "    <tr>\n",
       "      <th>104570</th>\n",
       "      <td>2022/08/24 11:49</td>\n",
       "      <td>272142</td>\n",
       "      <td>81B787700</td>\n",
       "      <td>172128</td>\n",
       "      <td>81B787AD0</td>\n",
       "      <td>2.471179e+10</td>\n",
       "      <td>Ruble</td>\n",
       "      <td>2.471179e+10</td>\n",
       "      <td>Ruble</td>\n",
       "      <td>ACH</td>\n",
       "      <td>1</td>\n",
       "    </tr>\n",
       "    <tr>\n",
       "      <th>106199</th>\n",
       "      <td>2022/09/04 12:55</td>\n",
       "      <td>216924</td>\n",
       "      <td>806A17070</td>\n",
       "      <td>8917</td>\n",
       "      <td>8095A93C0</td>\n",
       "      <td>9.743481e+09</td>\n",
       "      <td>US Dollar</td>\n",
       "      <td>9.743481e+09</td>\n",
       "      <td>US Dollar</td>\n",
       "      <td>ACH</td>\n",
       "      <td>1</td>\n",
       "    </tr>\n",
       "    <tr>\n",
       "      <th>106827</th>\n",
       "      <td>2022/08/13 00:10</td>\n",
       "      <td>72043</td>\n",
       "      <td>81A4C4A70</td>\n",
       "      <td>276002</td>\n",
       "      <td>81C3680B0</td>\n",
       "      <td>1.791718e+10</td>\n",
       "      <td>Ruble</td>\n",
       "      <td>1.791718e+10</td>\n",
       "      <td>Ruble</td>\n",
       "      <td>ACH</td>\n",
       "      <td>1</td>\n",
       "    </tr>\n",
       "    <tr>\n",
       "      <th>112030</th>\n",
       "      <td>2022/08/31 04:40</td>\n",
       "      <td>15877</td>\n",
       "      <td>806D473E0</td>\n",
       "      <td>6</td>\n",
       "      <td>81618FD90</td>\n",
       "      <td>4.382341e+10</td>\n",
       "      <td>Rupee</td>\n",
       "      <td>4.382341e+10</td>\n",
       "      <td>Rupee</td>\n",
       "      <td>ACH</td>\n",
       "      <td>1</td>\n",
       "    </tr>\n",
       "    <tr>\n",
       "      <th>113579</th>\n",
       "      <td>2022/08/05 17:53</td>\n",
       "      <td>52036</td>\n",
       "      <td>8167602D0</td>\n",
       "      <td>42983</td>\n",
       "      <td>816761860</td>\n",
       "      <td>7.939005e+09</td>\n",
       "      <td>Euro</td>\n",
       "      <td>7.939005e+09</td>\n",
       "      <td>Euro</td>\n",
       "      <td>ACH</td>\n",
       "      <td>1</td>\n",
       "    </tr>\n",
       "    <tr>\n",
       "      <th>119992</th>\n",
       "      <td>2022/08/14 12:17</td>\n",
       "      <td>147782</td>\n",
       "      <td>81378ADD0</td>\n",
       "      <td>250895</td>\n",
       "      <td>81378AEC0</td>\n",
       "      <td>1.216226e+11</td>\n",
       "      <td>Yen</td>\n",
       "      <td>1.216226e+11</td>\n",
       "      <td>Yen</td>\n",
       "      <td>ACH</td>\n",
       "      <td>1</td>\n",
       "    </tr>\n",
       "    <tr>\n",
       "      <th>128768</th>\n",
       "      <td>2022/09/13 13:38</td>\n",
       "      <td>276002</td>\n",
       "      <td>81C3680B0</td>\n",
       "      <td>266946</td>\n",
       "      <td>81A790740</td>\n",
       "      <td>1.792294e+10</td>\n",
       "      <td>Ruble</td>\n",
       "      <td>1.792294e+10</td>\n",
       "      <td>Ruble</td>\n",
       "      <td>ACH</td>\n",
       "      <td>1</td>\n",
       "    </tr>\n",
       "    <tr>\n",
       "      <th>132533</th>\n",
       "      <td>2022/08/26 13:05</td>\n",
       "      <td>25025</td>\n",
       "      <td>81397E2C0</td>\n",
       "      <td>65174</td>\n",
       "      <td>81932C090</td>\n",
       "      <td>1.492412e+10</td>\n",
       "      <td>Yuan</td>\n",
       "      <td>1.492412e+10</td>\n",
       "      <td>Yuan</td>\n",
       "      <td>ACH</td>\n",
       "      <td>1</td>\n",
       "    </tr>\n",
       "    <tr>\n",
       "      <th>137090</th>\n",
       "      <td>2022/08/16 15:34</td>\n",
       "      <td>172156</td>\n",
       "      <td>81BF8B070</td>\n",
       "      <td>262657</td>\n",
       "      <td>81A536E10</td>\n",
       "      <td>1.146818e+11</td>\n",
       "      <td>Ruble</td>\n",
       "      <td>1.146818e+11</td>\n",
       "      <td>Ruble</td>\n",
       "      <td>ACH</td>\n",
       "      <td>1</td>\n",
       "    </tr>\n",
       "    <tr>\n",
       "      <th>137739</th>\n",
       "      <td>2022/08/01 04:08</td>\n",
       "      <td>70</td>\n",
       "      <td>100428738</td>\n",
       "      <td>256514</td>\n",
       "      <td>81599FDB0</td>\n",
       "      <td>7.058118e+09</td>\n",
       "      <td>Yen</td>\n",
       "      <td>7.058118e+09</td>\n",
       "      <td>Yen</td>\n",
       "      <td>Cheque</td>\n",
       "      <td>1</td>\n",
       "    </tr>\n",
       "    <tr>\n",
       "      <th>137923</th>\n",
       "      <td>2022/09/27 18:14</td>\n",
       "      <td>11734</td>\n",
       "      <td>801651A80</td>\n",
       "      <td>29877</td>\n",
       "      <td>81116D160</td>\n",
       "      <td>7.174015e+09</td>\n",
       "      <td>Yuan</td>\n",
       "      <td>7.174015e+09</td>\n",
       "      <td>Yuan</td>\n",
       "      <td>ACH</td>\n",
       "      <td>1</td>\n",
       "    </tr>\n",
       "    <tr>\n",
       "      <th>138164</th>\n",
       "      <td>2022/08/27 12:11</td>\n",
       "      <td>221118</td>\n",
       "      <td>810F753A0</td>\n",
       "      <td>27</td>\n",
       "      <td>816D9B020</td>\n",
       "      <td>1.992250e+10</td>\n",
       "      <td>Rupee</td>\n",
       "      <td>1.992250e+10</td>\n",
       "      <td>Rupee</td>\n",
       "      <td>ACH</td>\n",
       "      <td>1</td>\n",
       "    </tr>\n",
       "    <tr>\n",
       "      <th>147505</th>\n",
       "      <td>2022/08/05 03:36</td>\n",
       "      <td>249485</td>\n",
       "      <td>81FEB0B00</td>\n",
       "      <td>50719</td>\n",
       "      <td>813531940</td>\n",
       "      <td>1.081510e+11</td>\n",
       "      <td>Yen</td>\n",
       "      <td>1.081510e+11</td>\n",
       "      <td>Yen</td>\n",
       "      <td>ACH</td>\n",
       "      <td>1</td>\n",
       "    </tr>\n",
       "    <tr>\n",
       "      <th>148600</th>\n",
       "      <td>2022/08/19 05:58</td>\n",
       "      <td>2</td>\n",
       "      <td>80B6BCEB0</td>\n",
       "      <td>19337</td>\n",
       "      <td>80B6D2020</td>\n",
       "      <td>6.694395e+10</td>\n",
       "      <td>Yuan</td>\n",
       "      <td>6.694395e+10</td>\n",
       "      <td>Yuan</td>\n",
       "      <td>ACH</td>\n",
       "      <td>1</td>\n",
       "    </tr>\n",
       "    <tr>\n",
       "      <th>150978</th>\n",
       "      <td>2022/08/24 12:35</td>\n",
       "      <td>275027</td>\n",
       "      <td>81BFBCA20</td>\n",
       "      <td>272140</td>\n",
       "      <td>81BFCCCB0</td>\n",
       "      <td>3.751001e+10</td>\n",
       "      <td>Ruble</td>\n",
       "      <td>3.751001e+10</td>\n",
       "      <td>Ruble</td>\n",
       "      <td>Cheque</td>\n",
       "      <td>1</td>\n",
       "    </tr>\n",
       "    <tr>\n",
       "      <th>151107</th>\n",
       "      <td>2022/08/06 03:23</td>\n",
       "      <td>22235</td>\n",
       "      <td>834F95C50</td>\n",
       "      <td>13104</td>\n",
       "      <td>834F95E30</td>\n",
       "      <td>7.305970e+10</td>\n",
       "      <td>Yuan</td>\n",
       "      <td>7.305970e+10</td>\n",
       "      <td>Yuan</td>\n",
       "      <td>ACH</td>\n",
       "      <td>1</td>\n",
       "    </tr>\n",
       "    <tr>\n",
       "      <th>153892</th>\n",
       "      <td>2022/09/08 12:49</td>\n",
       "      <td>172128</td>\n",
       "      <td>81B787AD0</td>\n",
       "      <td>272142</td>\n",
       "      <td>81B787700</td>\n",
       "      <td>2.863318e+10</td>\n",
       "      <td>Ruble</td>\n",
       "      <td>2.863318e+10</td>\n",
       "      <td>Ruble</td>\n",
       "      <td>ACH</td>\n",
       "      <td>1</td>\n",
       "    </tr>\n",
       "    <tr>\n",
       "      <th>156025</th>\n",
       "      <td>2022/09/08 12:13</td>\n",
       "      <td>27485</td>\n",
       "      <td>811C38710</td>\n",
       "      <td>3</td>\n",
       "      <td>8133FB060</td>\n",
       "      <td>2.005631e+10</td>\n",
       "      <td>Yen</td>\n",
       "      <td>2.005631e+10</td>\n",
       "      <td>Yen</td>\n",
       "      <td>ACH</td>\n",
       "      <td>1</td>\n",
       "    </tr>\n",
       "    <tr>\n",
       "      <th>156340</th>\n",
       "      <td>2022/08/07 08:05</td>\n",
       "      <td>157611</td>\n",
       "      <td>839E2C2E0</td>\n",
       "      <td>156514</td>\n",
       "      <td>839F60B50</td>\n",
       "      <td>1.385135e+10</td>\n",
       "      <td>Brazil Real</td>\n",
       "      <td>1.385135e+10</td>\n",
       "      <td>Brazil Real</td>\n",
       "      <td>ACH</td>\n",
       "      <td>1</td>\n",
       "    </tr>\n",
       "  </tbody>\n",
       "</table>\n",
       "</div>"
      ],
      "text/plain": [
       "               Timestamp  From Bank    Account  To Bank  Account.1  \\\n",
       "3171    2022/08/19 17:43     266946  81A2D04C0   266946  81A4AFE20   \n",
       "7034    2022/08/12 07:36     262657  81A536E10      282  81C394920   \n",
       "10932   2022/08/08 23:35    1140210  8363E1100  2148462  8363E8250   \n",
       "11321   2022/08/28 16:07      16098  810B51C30    39424  8129FA8A0   \n",
       "15402   2022/08/04 04:06     246487  8120F9710   234541  8120F9B20   \n",
       "16099   2022/08/27 05:53       4563  80320C490    18140  8140BC700   \n",
       "18370   2022/08/20 08:53     255595  827540950    54448  827540C90   \n",
       "26280   2022/08/28 09:32     233615  814E59050   179275  81D6C6C40   \n",
       "34750   2022/08/21 18:08      40999  8101CDD20   140756  8110B4520   \n",
       "43383   2022/08/27 18:54     180965  820A0E4D0    35634  80F49B880   \n",
       "47353   2022/08/25 10:20     118693  84AF25B80  1200619  84AF29E70   \n",
       "49872   2022/10/25 06:39      25444  802651460   159278  81754CB40   \n",
       "60215   2022/09/13 18:56         15  8000EC410      220  8000EED80   \n",
       "61924   2022/09/06 13:06      17976  81B3BA5D0   153814  814125170   \n",
       "62547   2022/08/13 12:45    1181597  84313A960   182063  84313B6E0   \n",
       "67134   2022/08/14 16:33      25935  82170BFC0   137768  812CEEB40   \n",
       "79078   2022/08/12 18:48     210658  8041F1380     1922  80420B3E0   \n",
       "80496   2022/08/22 21:30         27  817C00620        4  817C00710   \n",
       "80927   2022/08/30 13:16      23351  805E42F30   251758  814C098C0   \n",
       "82840   2022/08/25 15:02     221413  8154A3480        3  8133FB060   \n",
       "84392   2022/08/04 09:40     160525  818552BA0   165793  8185679C0   \n",
       "84610   2022/08/23 17:10     135395  81C91E330    28905  80CA66B30   \n",
       "97919   2022/08/02 07:35      15019  807933420   254374  814201090   \n",
       "98954   2022/08/08 22:41     286535  84B276B80   273752  84B2770D0   \n",
       "103355  2022/10/07 07:10     172156  81BF8B070      282  81B272210   \n",
       "103712  2022/09/14 17:27      12284  80BA79D40    52134  813690A30   \n",
       "104570  2022/08/24 11:49     272142  81B787700   172128  81B787AD0   \n",
       "106199  2022/09/04 12:55     216924  806A17070     8917  8095A93C0   \n",
       "106827  2022/08/13 00:10      72043  81A4C4A70   276002  81C3680B0   \n",
       "112030  2022/08/31 04:40      15877  806D473E0        6  81618FD90   \n",
       "113579  2022/08/05 17:53      52036  8167602D0    42983  816761860   \n",
       "119992  2022/08/14 12:17     147782  81378ADD0   250895  81378AEC0   \n",
       "128768  2022/09/13 13:38     276002  81C3680B0   266946  81A790740   \n",
       "132533  2022/08/26 13:05      25025  81397E2C0    65174  81932C090   \n",
       "137090  2022/08/16 15:34     172156  81BF8B070   262657  81A536E10   \n",
       "137739  2022/08/01 04:08         70  100428738   256514  81599FDB0   \n",
       "137923  2022/09/27 18:14      11734  801651A80    29877  81116D160   \n",
       "138164  2022/08/27 12:11     221118  810F753A0       27  816D9B020   \n",
       "147505  2022/08/05 03:36     249485  81FEB0B00    50719  813531940   \n",
       "148600  2022/08/19 05:58          2  80B6BCEB0    19337  80B6D2020   \n",
       "150978  2022/08/24 12:35     275027  81BFBCA20   272140  81BFCCCB0   \n",
       "151107  2022/08/06 03:23      22235  834F95C50    13104  834F95E30   \n",
       "153892  2022/09/08 12:49     172128  81B787AD0   272142  81B787700   \n",
       "156025  2022/09/08 12:13      27485  811C38710        3  8133FB060   \n",
       "156340  2022/08/07 08:05     157611  839E2C2E0   156514  839F60B50   \n",
       "\n",
       "        Amount Received Receiving Currency   Amount Paid Payment Currency  \\\n",
       "3171       6.759616e+11              Ruble  6.759616e+11            Ruble   \n",
       "7034       6.878016e+09              Ruble  6.878016e+09            Ruble   \n",
       "10932      6.155536e+10       Mexican Peso  6.155536e+10     Mexican Peso   \n",
       "11321      2.197634e+10                Yen  2.197634e+10              Yen   \n",
       "15402      1.465918e+11               Yuan  1.465918e+11             Yuan   \n",
       "16099      2.043149e+10                Yen  2.043149e+10              Yen   \n",
       "18370      2.253872e+11                Yen  2.253872e+11              Yen   \n",
       "26280      1.112681e+10              Ruble  1.112681e+10            Ruble   \n",
       "34750      6.888995e+09               Yuan  6.888995e+09             Yuan   \n",
       "43383      1.729836e+10               Yuan  1.729836e+10             Yuan   \n",
       "47353      3.314457e+10          US Dollar  3.314457e+10        US Dollar   \n",
       "49872      8.444735e+09              Rupee  8.444735e+09            Rupee   \n",
       "60215      6.644265e+09             Shekel  6.644265e+09           Shekel   \n",
       "61924      2.959889e+10                Yen  2.959889e+10              Yen   \n",
       "62547      1.648039e+10             Shekel  1.648039e+10           Shekel   \n",
       "67134      2.430187e+11                Yen  2.430187e+11              Yen   \n",
       "79078      1.954911e+10          US Dollar  1.954911e+10        US Dollar   \n",
       "80496      7.698032e+09              Rupee  7.698032e+09            Rupee   \n",
       "80927      2.928976e+11                Yen  2.928976e+11              Yen   \n",
       "82840      5.074509e+10                Yen  5.074509e+10              Yen   \n",
       "84392      7.187141e+10              Rupee  7.187141e+10            Rupee   \n",
       "84610      1.609874e+10               Yuan  1.609874e+10             Yuan   \n",
       "97919      1.421271e+10                Yen  1.421271e+10              Yen   \n",
       "98954      1.954463e+10              Ruble  1.954463e+10            Ruble   \n",
       "103355     1.300515e+11              Ruble  1.300515e+11            Ruble   \n",
       "103712     8.414292e+09                Yen  8.414292e+09              Yen   \n",
       "104570     2.471179e+10              Ruble  2.471179e+10            Ruble   \n",
       "106199     9.743481e+09          US Dollar  9.743481e+09        US Dollar   \n",
       "106827     1.791718e+10              Ruble  1.791718e+10            Ruble   \n",
       "112030     4.382341e+10              Rupee  4.382341e+10            Rupee   \n",
       "113579     7.939005e+09               Euro  7.939005e+09             Euro   \n",
       "119992     1.216226e+11                Yen  1.216226e+11              Yen   \n",
       "128768     1.792294e+10              Ruble  1.792294e+10            Ruble   \n",
       "132533     1.492412e+10               Yuan  1.492412e+10             Yuan   \n",
       "137090     1.146818e+11              Ruble  1.146818e+11            Ruble   \n",
       "137739     7.058118e+09                Yen  7.058118e+09              Yen   \n",
       "137923     7.174015e+09               Yuan  7.174015e+09             Yuan   \n",
       "138164     1.992250e+10              Rupee  1.992250e+10            Rupee   \n",
       "147505     1.081510e+11                Yen  1.081510e+11              Yen   \n",
       "148600     6.694395e+10               Yuan  6.694395e+10             Yuan   \n",
       "150978     3.751001e+10              Ruble  3.751001e+10            Ruble   \n",
       "151107     7.305970e+10               Yuan  7.305970e+10             Yuan   \n",
       "153892     2.863318e+10              Ruble  2.863318e+10            Ruble   \n",
       "156025     2.005631e+10                Yen  2.005631e+10              Yen   \n",
       "156340     1.385135e+10        Brazil Real  1.385135e+10      Brazil Real   \n",
       "\n",
       "       Payment Format  Is Laundering  \n",
       "3171              ACH              1  \n",
       "7034              ACH              1  \n",
       "10932             ACH              1  \n",
       "11321             ACH              1  \n",
       "15402             ACH              1  \n",
       "16099             ACH              1  \n",
       "18370          Cheque              1  \n",
       "26280             ACH              1  \n",
       "34750             ACH              1  \n",
       "43383             ACH              1  \n",
       "47353             ACH              1  \n",
       "49872             ACH              1  \n",
       "60215             ACH              1  \n",
       "61924             ACH              1  \n",
       "62547          Cheque              1  \n",
       "67134             ACH              1  \n",
       "79078             ACH              1  \n",
       "80496             ACH              1  \n",
       "80927             ACH              1  \n",
       "82840             ACH              1  \n",
       "84392             ACH              1  \n",
       "84610             ACH              1  \n",
       "97919             ACH              1  \n",
       "98954          Cheque              1  \n",
       "103355            ACH              1  \n",
       "103712            ACH              1  \n",
       "104570            ACH              1  \n",
       "106199            ACH              1  \n",
       "106827            ACH              1  \n",
       "112030            ACH              1  \n",
       "113579            ACH              1  \n",
       "119992            ACH              1  \n",
       "128768            ACH              1  \n",
       "132533            ACH              1  \n",
       "137090            ACH              1  \n",
       "137739         Cheque              1  \n",
       "137923            ACH              1  \n",
       "138164            ACH              1  \n",
       "147505            ACH              1  \n",
       "148600            ACH              1  \n",
       "150978         Cheque              1  \n",
       "151107            ACH              1  \n",
       "153892            ACH              1  \n",
       "156025            ACH              1  \n",
       "156340            ACH              1  "
      ]
     },
     "execution_count": 17,
     "metadata": {},
     "output_type": "execute_result"
    }
   ],
   "source": [
    "#visualisasi dataframe baru yang berisi data outliers saja\n",
    "df[df['Amount Received'].isin(filtered_values)]"
   ]
  },
  {
   "cell_type": "markdown",
   "id": "a91eae1e",
   "metadata": {},
   "source": [
    "Setelah saya melakukan perhitungan, ternyata dari 45 Outliers terdapat 45 data yang teridentifikasi sebagai money laundry dilihat dari kolom 'Is Laundering' == 1. Hal ini berarti kecurigaan saya terbukti bahwa memang para pelaku money laundry menerima jumlah uang dari akun transaksi asal yang tidak biasa atau yang menyimpang ekstrim dari rata-rata kebanyakan orang.\n",
    "\n",
    "Dengan demikian, langkah paling masuk akal untuk menindak 45 outliers ini adalah dengan membiarkannya ada di dataframe df. "
   ]
  },
  {
   "cell_type": "code",
   "execution_count": 19,
   "id": "4c9212c8",
   "metadata": {},
   "outputs": [],
   "source": [
    "#Jika ingin menghilangkan outliers dari dataframe df dapat menjalankan kode dibawah :\n",
    "\n",
    "#Remove Outliers From the dataframe\n",
    "#df = df[~df['Amount Received'].isin(filtered_values)]\n",
    "#df.shape"
   ]
  },
  {
   "cell_type": "code",
   "execution_count": 20,
   "id": "22156271",
   "metadata": {},
   "outputs": [
    {
     "name": "stdout",
     "output_type": "stream",
     "text": [
      "<class 'pandas.core.frame.DataFrame'>\n",
      "RangeIndex: 157622 entries, 0 to 157621\n",
      "Data columns (total 11 columns):\n",
      " #   Column              Non-Null Count   Dtype  \n",
      "---  ------              --------------   -----  \n",
      " 0   Timestamp           157622 non-null  object \n",
      " 1   From Bank           157622 non-null  int64  \n",
      " 2   Account             157622 non-null  object \n",
      " 3   To Bank             157622 non-null  int64  \n",
      " 4   Account.1           157622 non-null  object \n",
      " 5   Amount Received     157622 non-null  float64\n",
      " 6   Receiving Currency  157622 non-null  object \n",
      " 7   Amount Paid         157622 non-null  float64\n",
      " 8   Payment Currency    157622 non-null  object \n",
      " 9   Payment Format      157622 non-null  object \n",
      " 10  Is Laundering       157622 non-null  int64  \n",
      "dtypes: float64(2), int64(3), object(6)\n",
      "memory usage: 13.2+ MB\n"
     ]
    }
   ],
   "source": [
    "# Cek Informasi masing-masing feature\n",
    "df.info()"
   ]
  },
  {
   "cell_type": "markdown",
   "id": "12789224",
   "metadata": {},
   "source": [
    "## Feature Selection and Manipulation\n",
    "Seperti yang sudah kita ketahui bersama, bahwa Machine Learning hanya dapat mengolah data yang bertipe numerik. Maka dari itu penting bagi kita untuk bijak memilih Feature-feature yang ada. Ketika ada feature yang tidak dapat diolah maka kita dapat memanipulasinya untuk dapat menghasilkan value yang berarti.\n",
    "\n",
    "Berdasarkan informasi data diatas, ada beberapa kolom yang tidak bertipe data numerik yakni :\n",
    "\n",
    "*) Timestamp\n",
    "\n",
    "*) Account\n",
    "\n",
    "*) Account.1\n",
    "\n",
    "*) Receiving Currency\n",
    "\n",
    "*) Payment Currency\n",
    "\n",
    "*) Payment Format"
   ]
  },
  {
   "cell_type": "code",
   "execution_count": 22,
   "id": "a4f86d0b",
   "metadata": {},
   "outputs": [
    {
     "data": {
      "text/plain": [
       "Index(['Timestamp', 'From Bank', 'Account', 'To Bank', 'Account.1',\n",
       "       'Amount Received', 'Receiving Currency', 'Amount Paid',\n",
       "       'Payment Currency', 'Payment Format', 'Is Laundering'],\n",
       "      dtype='object')"
      ]
     },
     "execution_count": 22,
     "metadata": {},
     "output_type": "execute_result"
    }
   ],
   "source": [
    "# check data atribute\n",
    "df.columns"
   ]
  },
  {
   "cell_type": "markdown",
   "id": "738e0532",
   "metadata": {},
   "source": [
    "saya memulai dengan memanipulasi kolom 'Timestamp'. kolom 'Timestamp' merupakan kolom bertipe object yang menyimpan data Tahun/Bulan/Hari/Jam/Menit dari suatu transaksi. saya melakukan manipulasi pada kolom 'Timestamp' dengan hanya mengambil jam dan menitnya saja sebagai kolom baru bernama 'Hour' dan 'Minutes' bertipe integer.\n",
    "\n",
    "\n",
    "Hal ini saya lakukan bukan tanpa alasan, melainkan karena saya memiliki kecurigaan bahwa ada kemungkinan para pelaku money laundry melakukan transaksi money laundry pada jam-jam tertentu. Maka dari itu saya berusaha untuk memanipulasi kolom 'Timestamp' yang awalnya bertipe objek, saya convert menjadi tipe timedate.\n",
    "\n",
    "\n",
    "Setelah sistem sudah mengenal kolom 'Timestamp' sebagai kolom yang bertipe timedate, saya membuat kolom baru ('Hour' dan 'Minutes') untuk menyimpan jam dan menit dari kolom 'Timestamp'. Dengan demikian kolom 'Timestamp' menjadi kolom yang tidak relevan lagi maka saya memutuskan untuk drop kolom 'Timestamp'."
   ]
  },
  {
   "cell_type": "code",
   "execution_count": 23,
   "id": "1d646d8e",
   "metadata": {},
   "outputs": [],
   "source": [
    "# Konversi kolom Timestamp ke tipe data datetime\n",
    "df['Timestamp'] = pd.to_datetime(df['Timestamp'])"
   ]
  },
  {
   "cell_type": "code",
   "execution_count": 24,
   "id": "38fa7eac",
   "metadata": {},
   "outputs": [],
   "source": [
    "# Mengakses atribut jam dan menit menggunakan 'dt'\n",
    "df['Hour'] = df['Timestamp'].dt.hour\n",
    "df['Minutes'] = df['Timestamp'].dt.minute"
   ]
  },
  {
   "cell_type": "code",
   "execution_count": 25,
   "id": "70980207",
   "metadata": {},
   "outputs": [
    {
     "name": "stdout",
     "output_type": "stream",
     "text": [
      "<class 'pandas.core.frame.DataFrame'>\n",
      "RangeIndex: 157622 entries, 0 to 157621\n",
      "Data columns (total 13 columns):\n",
      " #   Column              Non-Null Count   Dtype         \n",
      "---  ------              --------------   -----         \n",
      " 0   Timestamp           157622 non-null  datetime64[ns]\n",
      " 1   From Bank           157622 non-null  int64         \n",
      " 2   Account             157622 non-null  object        \n",
      " 3   To Bank             157622 non-null  int64         \n",
      " 4   Account.1           157622 non-null  object        \n",
      " 5   Amount Received     157622 non-null  float64       \n",
      " 6   Receiving Currency  157622 non-null  object        \n",
      " 7   Amount Paid         157622 non-null  float64       \n",
      " 8   Payment Currency    157622 non-null  object        \n",
      " 9   Payment Format      157622 non-null  object        \n",
      " 10  Is Laundering       157622 non-null  int64         \n",
      " 11  Hour                157622 non-null  int64         \n",
      " 12  Minutes             157622 non-null  int64         \n",
      "dtypes: datetime64[ns](1), float64(2), int64(5), object(5)\n",
      "memory usage: 15.6+ MB\n"
     ]
    }
   ],
   "source": [
    "#check data information\n",
    "df.info()"
   ]
  },
  {
   "cell_type": "code",
   "execution_count": 26,
   "id": "bb7c53c6",
   "metadata": {},
   "outputs": [
    {
     "data": {
      "text/html": [
       "<div>\n",
       "<style scoped>\n",
       "    .dataframe tbody tr th:only-of-type {\n",
       "        vertical-align: middle;\n",
       "    }\n",
       "\n",
       "    .dataframe tbody tr th {\n",
       "        vertical-align: top;\n",
       "    }\n",
       "\n",
       "    .dataframe thead th {\n",
       "        text-align: right;\n",
       "    }\n",
       "</style>\n",
       "<table border=\"1\" class=\"dataframe\">\n",
       "  <thead>\n",
       "    <tr style=\"text-align: right;\">\n",
       "      <th></th>\n",
       "      <th>Timestamp</th>\n",
       "      <th>From Bank</th>\n",
       "      <th>Account</th>\n",
       "      <th>To Bank</th>\n",
       "      <th>Account.1</th>\n",
       "      <th>Amount Received</th>\n",
       "      <th>Receiving Currency</th>\n",
       "      <th>Amount Paid</th>\n",
       "      <th>Payment Currency</th>\n",
       "      <th>Payment Format</th>\n",
       "      <th>Is Laundering</th>\n",
       "      <th>Hour</th>\n",
       "      <th>Minutes</th>\n",
       "    </tr>\n",
       "  </thead>\n",
       "  <tbody>\n",
       "    <tr>\n",
       "      <th>0</th>\n",
       "      <td>2022-08-24 04:56:00</td>\n",
       "      <td>8882</td>\n",
       "      <td>837D8FBE0</td>\n",
       "      <td>117497</td>\n",
       "      <td>837DA1A20</td>\n",
       "      <td>4807.91</td>\n",
       "      <td>US Dollar</td>\n",
       "      <td>4807.91</td>\n",
       "      <td>US Dollar</td>\n",
       "      <td>ACH</td>\n",
       "      <td>1</td>\n",
       "      <td>4</td>\n",
       "      <td>56</td>\n",
       "    </tr>\n",
       "    <tr>\n",
       "      <th>1</th>\n",
       "      <td>2022-09-04 15:27:00</td>\n",
       "      <td>237777</td>\n",
       "      <td>81A98D970</td>\n",
       "      <td>252706</td>\n",
       "      <td>8136116E0</td>\n",
       "      <td>5302.32</td>\n",
       "      <td>US Dollar</td>\n",
       "      <td>5302.32</td>\n",
       "      <td>US Dollar</td>\n",
       "      <td>ACH</td>\n",
       "      <td>1</td>\n",
       "      <td>15</td>\n",
       "      <td>27</td>\n",
       "    </tr>\n",
       "    <tr>\n",
       "      <th>2</th>\n",
       "      <td>2022-08-01 00:23:00</td>\n",
       "      <td>15781</td>\n",
       "      <td>803655070</td>\n",
       "      <td>15781</td>\n",
       "      <td>803655070</td>\n",
       "      <td>12370.70</td>\n",
       "      <td>US Dollar</td>\n",
       "      <td>12370.70</td>\n",
       "      <td>US Dollar</td>\n",
       "      <td>Reinvestment</td>\n",
       "      <td>0</td>\n",
       "      <td>0</td>\n",
       "      <td>23</td>\n",
       "    </tr>\n",
       "    <tr>\n",
       "      <th>3</th>\n",
       "      <td>2022-08-04 00:32:00</td>\n",
       "      <td>1213</td>\n",
       "      <td>8001CAB70</td>\n",
       "      <td>2609</td>\n",
       "      <td>8001FA180</td>\n",
       "      <td>8691042.90</td>\n",
       "      <td>Euro</td>\n",
       "      <td>8691042.90</td>\n",
       "      <td>Euro</td>\n",
       "      <td>ACH</td>\n",
       "      <td>1</td>\n",
       "      <td>0</td>\n",
       "      <td>32</td>\n",
       "    </tr>\n",
       "    <tr>\n",
       "      <th>4</th>\n",
       "      <td>2022-09-10 16:41:00</td>\n",
       "      <td>29574</td>\n",
       "      <td>803FCDA70</td>\n",
       "      <td>211052</td>\n",
       "      <td>805824F50</td>\n",
       "      <td>16473.56</td>\n",
       "      <td>US Dollar</td>\n",
       "      <td>16473.56</td>\n",
       "      <td>US Dollar</td>\n",
       "      <td>ACH</td>\n",
       "      <td>1</td>\n",
       "      <td>16</td>\n",
       "      <td>41</td>\n",
       "    </tr>\n",
       "  </tbody>\n",
       "</table>\n",
       "</div>"
      ],
      "text/plain": [
       "            Timestamp  From Bank    Account  To Bank  Account.1  \\\n",
       "0 2022-08-24 04:56:00       8882  837D8FBE0   117497  837DA1A20   \n",
       "1 2022-09-04 15:27:00     237777  81A98D970   252706  8136116E0   \n",
       "2 2022-08-01 00:23:00      15781  803655070    15781  803655070   \n",
       "3 2022-08-04 00:32:00       1213  8001CAB70     2609  8001FA180   \n",
       "4 2022-09-10 16:41:00      29574  803FCDA70   211052  805824F50   \n",
       "\n",
       "   Amount Received Receiving Currency  Amount Paid Payment Currency  \\\n",
       "0          4807.91          US Dollar      4807.91        US Dollar   \n",
       "1          5302.32          US Dollar      5302.32        US Dollar   \n",
       "2         12370.70          US Dollar     12370.70        US Dollar   \n",
       "3       8691042.90               Euro   8691042.90             Euro   \n",
       "4         16473.56          US Dollar     16473.56        US Dollar   \n",
       "\n",
       "  Payment Format  Is Laundering  Hour  Minutes  \n",
       "0            ACH              1     4       56  \n",
       "1            ACH              1    15       27  \n",
       "2   Reinvestment              0     0       23  \n",
       "3            ACH              1     0       32  \n",
       "4            ACH              1    16       41  "
      ]
     },
     "execution_count": 26,
     "metadata": {},
     "output_type": "execute_result"
    }
   ],
   "source": [
    "df.head()"
   ]
  },
  {
   "cell_type": "code",
   "execution_count": 27,
   "id": "085dad3d",
   "metadata": {},
   "outputs": [],
   "source": [
    "#Drop unrelatable columns\n",
    "df = df.drop(columns=['Timestamp'])"
   ]
  },
  {
   "cell_type": "markdown",
   "id": "5462059a",
   "metadata": {},
   "source": [
    "Setelah memanupulasi kolom 'Timestamp', saya beralih ke feature selanjutnya yaitu 'Account' dan 'Account.1' dimana 'Account' merupakan Kode heksadesimal akun transaksi asal, dan 'Account.1' merupakan Kode heksadesimal akun transaksi tempat tujuan transaksi berakhir. Pada prosesnya, saya ingin mengetahui apakah ada pengaruh jika ada transaksi dari suatu rekening ke rekening yang sama terhadap identifikasi sebagai transaksi money laundry. \n",
    "\n",
    "Maka dari itu saya membuat kolom baru bernama 'Different Account' yang akan bernilai 0 jika transaksi dilakukan ke rekening yang sama dengan rekening pengirim, dan akan bernilai 1 jika transaksi dilakukan ke rekening yang berbeda dengan rekening pengirim. Setelah kolom 'Different Account' terbentuk, maka kolom 'Account' dan 'Account.1' tidak relevan lagi dan bisa di drop."
   ]
  },
  {
   "cell_type": "code",
   "execution_count": 28,
   "id": "d898a5f3",
   "metadata": {},
   "outputs": [],
   "source": [
    "df['Different Account'] = np.where(df['Account'] == df['Account.1'], 0, 1)"
   ]
  },
  {
   "cell_type": "code",
   "execution_count": 29,
   "id": "d0051d57",
   "metadata": {},
   "outputs": [
    {
     "data": {
      "text/html": [
       "<div>\n",
       "<style scoped>\n",
       "    .dataframe tbody tr th:only-of-type {\n",
       "        vertical-align: middle;\n",
       "    }\n",
       "\n",
       "    .dataframe tbody tr th {\n",
       "        vertical-align: top;\n",
       "    }\n",
       "\n",
       "    .dataframe thead th {\n",
       "        text-align: right;\n",
       "    }\n",
       "</style>\n",
       "<table border=\"1\" class=\"dataframe\">\n",
       "  <thead>\n",
       "    <tr style=\"text-align: right;\">\n",
       "      <th></th>\n",
       "      <th>From Bank</th>\n",
       "      <th>Account</th>\n",
       "      <th>To Bank</th>\n",
       "      <th>Account.1</th>\n",
       "      <th>Amount Received</th>\n",
       "      <th>Receiving Currency</th>\n",
       "      <th>Amount Paid</th>\n",
       "      <th>Payment Currency</th>\n",
       "      <th>Payment Format</th>\n",
       "      <th>Is Laundering</th>\n",
       "      <th>Hour</th>\n",
       "      <th>Minutes</th>\n",
       "      <th>Different Account</th>\n",
       "    </tr>\n",
       "  </thead>\n",
       "  <tbody>\n",
       "    <tr>\n",
       "      <th>157617</th>\n",
       "      <td>2310</td>\n",
       "      <td>800331C20</td>\n",
       "      <td>222457</td>\n",
       "      <td>80BA6B880</td>\n",
       "      <td>10337.17</td>\n",
       "      <td>US Dollar</td>\n",
       "      <td>10337.17</td>\n",
       "      <td>US Dollar</td>\n",
       "      <td>Cheque</td>\n",
       "      <td>0</td>\n",
       "      <td>0</td>\n",
       "      <td>28</td>\n",
       "      <td>1</td>\n",
       "    </tr>\n",
       "    <tr>\n",
       "      <th>157618</th>\n",
       "      <td>29496</td>\n",
       "      <td>80E709470</td>\n",
       "      <td>29496</td>\n",
       "      <td>80E709470</td>\n",
       "      <td>1625.07</td>\n",
       "      <td>US Dollar</td>\n",
       "      <td>1625.07</td>\n",
       "      <td>US Dollar</td>\n",
       "      <td>Reinvestment</td>\n",
       "      <td>0</td>\n",
       "      <td>0</td>\n",
       "      <td>11</td>\n",
       "      <td>0</td>\n",
       "    </tr>\n",
       "    <tr>\n",
       "      <th>157619</th>\n",
       "      <td>15830</td>\n",
       "      <td>802623AB0</td>\n",
       "      <td>1538</td>\n",
       "      <td>80331D710</td>\n",
       "      <td>5878.85</td>\n",
       "      <td>Euro</td>\n",
       "      <td>5878.85</td>\n",
       "      <td>Euro</td>\n",
       "      <td>ACH</td>\n",
       "      <td>1</td>\n",
       "      <td>11</td>\n",
       "      <td>36</td>\n",
       "      <td>1</td>\n",
       "    </tr>\n",
       "    <tr>\n",
       "      <th>157620</th>\n",
       "      <td>272896</td>\n",
       "      <td>81BBEA160</td>\n",
       "      <td>272142</td>\n",
       "      <td>81C393430</td>\n",
       "      <td>1321737.77</td>\n",
       "      <td>Ruble</td>\n",
       "      <td>1321737.77</td>\n",
       "      <td>Ruble</td>\n",
       "      <td>ACH</td>\n",
       "      <td>1</td>\n",
       "      <td>11</td>\n",
       "      <td>18</td>\n",
       "      <td>1</td>\n",
       "    </tr>\n",
       "    <tr>\n",
       "      <th>157621</th>\n",
       "      <td>15769</td>\n",
       "      <td>80439CAC0</td>\n",
       "      <td>15769</td>\n",
       "      <td>80439CAC0</td>\n",
       "      <td>6903.50</td>\n",
       "      <td>US Dollar</td>\n",
       "      <td>6903.50</td>\n",
       "      <td>US Dollar</td>\n",
       "      <td>Reinvestment</td>\n",
       "      <td>0</td>\n",
       "      <td>0</td>\n",
       "      <td>8</td>\n",
       "      <td>0</td>\n",
       "    </tr>\n",
       "  </tbody>\n",
       "</table>\n",
       "</div>"
      ],
      "text/plain": [
       "        From Bank    Account  To Bank  Account.1  Amount Received  \\\n",
       "157617       2310  800331C20   222457  80BA6B880         10337.17   \n",
       "157618      29496  80E709470    29496  80E709470          1625.07   \n",
       "157619      15830  802623AB0     1538  80331D710          5878.85   \n",
       "157620     272896  81BBEA160   272142  81C393430       1321737.77   \n",
       "157621      15769  80439CAC0    15769  80439CAC0          6903.50   \n",
       "\n",
       "       Receiving Currency  Amount Paid Payment Currency Payment Format  \\\n",
       "157617          US Dollar     10337.17        US Dollar         Cheque   \n",
       "157618          US Dollar      1625.07        US Dollar   Reinvestment   \n",
       "157619               Euro      5878.85             Euro            ACH   \n",
       "157620              Ruble   1321737.77            Ruble            ACH   \n",
       "157621          US Dollar      6903.50        US Dollar   Reinvestment   \n",
       "\n",
       "        Is Laundering  Hour  Minutes  Different Account  \n",
       "157617              0     0       28                  1  \n",
       "157618              0     0       11                  0  \n",
       "157619              1    11       36                  1  \n",
       "157620              1    11       18                  1  \n",
       "157621              0     0        8                  0  "
      ]
     },
     "execution_count": 29,
     "metadata": {},
     "output_type": "execute_result"
    }
   ],
   "source": [
    "df.tail()"
   ]
  },
  {
   "cell_type": "code",
   "execution_count": 31,
   "id": "6ddd1366",
   "metadata": {},
   "outputs": [
    {
     "data": {
      "text/plain": [
       "1    83658\n",
       "0    73964\n",
       "Name: Different Account, dtype: int64"
      ]
     },
     "execution_count": 31,
     "metadata": {},
     "output_type": "execute_result"
    }
   ],
   "source": [
    "#melihat jumlah data untuk pada kolom different account\n",
    "df['Different Account'].value_counts()"
   ]
  },
  {
   "cell_type": "code",
   "execution_count": 32,
   "id": "50a5ae6c",
   "metadata": {},
   "outputs": [
    {
     "name": "stdout",
     "output_type": "stream",
     "text": [
      "Jumlah (Different Account=1, Is Laundering=0): 26155\n",
      "Jumlah (Different Account=0, Is Laundering=1): 122\n",
      "Jumlah (Different Account=1, Is Laundering=1): 57503\n",
      "Jumlah (Different Account=0, Is Laundering=0): 73842\n"
     ]
    }
   ],
   "source": [
    "count_1_0 = df[(df['Different Account'] == 1) & (df['Is Laundering'] == 0)]['Is Laundering'].count()\n",
    "count_0_1 = df[(df['Different Account'] == 0) & (df['Is Laundering'] == 1)]['Is Laundering'].count()\n",
    "count_1_1 = df[(df['Different Account'] == 1) & (df['Is Laundering'] == 1)]['Is Laundering'].count()\n",
    "count_0_0 = df[(df['Different Account'] == 0) & (df['Is Laundering'] == 0)]['Is Laundering'].count()\n",
    "\n",
    "# Menampilkan hasil\n",
    "print(\"Jumlah (Different Account=1, Is Laundering=0):\", count_1_0)\n",
    "print(\"Jumlah (Different Account=0, Is Laundering=1):\", count_0_1)\n",
    "print(\"Jumlah (Different Account=1, Is Laundering=1):\", count_1_1)\n",
    "print(\"Jumlah (Different Account=0, Is Laundering=0):\", count_0_0)\n"
   ]
  },
  {
   "cell_type": "code",
   "execution_count": 33,
   "id": "32022728",
   "metadata": {},
   "outputs": [
    {
     "data": {
      "text/plain": [
       "array([[73842, 26155],\n",
       "       [  122, 57503]], dtype=int64)"
      ]
     },
     "execution_count": 33,
     "metadata": {},
     "output_type": "execute_result"
    }
   ],
   "source": [
    "from sklearn.metrics import confusion_matrix\n",
    "\n",
    "# Membuat confusion matrix\n",
    "conf_matrix = confusion_matrix(df['Is Laundering'], df['Different Account'])\n",
    "conf_matrix"
   ]
  },
  {
   "cell_type": "markdown",
   "id": "a2440579",
   "metadata": {},
   "source": [
    "Pada awalnya, saya berasumsi jika suatu transaksi terjadi dari suatu rekening ke rekening yang sama merupakan sebuah keanehan. Akan tetapi, setelah melakukan perhitungan ternyata pengaruh jika ada transaksi dari suatu rekening ke rekening yang sama terhadap identifikasi sebagai transaksi money laundry tidak cukup kuat. Hal ini didasari dari confusion matrix yang mengevaluasi pengaruh kolom 'Different Account' terhadap kolom 'Is Laundering' memiliki nilai yang cenderung rata. Adanya transaksi dari suatu rekening ke rekening yang sama DAN teridentifikasi sebagai money laundry hanya ada 122 data. Angka ini cenderung kecil jika dibandingkan dengan yang lainnya."
   ]
  },
  {
   "cell_type": "code",
   "execution_count": 34,
   "id": "546dfbad",
   "metadata": {},
   "outputs": [],
   "source": [
    "#Drop unrelatable columns\n",
    "df = df.drop(columns=['Account','Account.1'])"
   ]
  },
  {
   "cell_type": "code",
   "execution_count": 35,
   "id": "db37e099",
   "metadata": {},
   "outputs": [
    {
     "data": {
      "text/html": [
       "<div>\n",
       "<style scoped>\n",
       "    .dataframe tbody tr th:only-of-type {\n",
       "        vertical-align: middle;\n",
       "    }\n",
       "\n",
       "    .dataframe tbody tr th {\n",
       "        vertical-align: top;\n",
       "    }\n",
       "\n",
       "    .dataframe thead th {\n",
       "        text-align: right;\n",
       "    }\n",
       "</style>\n",
       "<table border=\"1\" class=\"dataframe\">\n",
       "  <thead>\n",
       "    <tr style=\"text-align: right;\">\n",
       "      <th></th>\n",
       "      <th>From Bank</th>\n",
       "      <th>To Bank</th>\n",
       "      <th>Amount Received</th>\n",
       "      <th>Receiving Currency</th>\n",
       "      <th>Amount Paid</th>\n",
       "      <th>Payment Currency</th>\n",
       "      <th>Payment Format</th>\n",
       "      <th>Is Laundering</th>\n",
       "      <th>Hour</th>\n",
       "      <th>Minutes</th>\n",
       "      <th>Different Account</th>\n",
       "    </tr>\n",
       "  </thead>\n",
       "  <tbody>\n",
       "    <tr>\n",
       "      <th>0</th>\n",
       "      <td>8882</td>\n",
       "      <td>117497</td>\n",
       "      <td>4807.91</td>\n",
       "      <td>US Dollar</td>\n",
       "      <td>4807.91</td>\n",
       "      <td>US Dollar</td>\n",
       "      <td>ACH</td>\n",
       "      <td>1</td>\n",
       "      <td>4</td>\n",
       "      <td>56</td>\n",
       "      <td>1</td>\n",
       "    </tr>\n",
       "    <tr>\n",
       "      <th>1</th>\n",
       "      <td>237777</td>\n",
       "      <td>252706</td>\n",
       "      <td>5302.32</td>\n",
       "      <td>US Dollar</td>\n",
       "      <td>5302.32</td>\n",
       "      <td>US Dollar</td>\n",
       "      <td>ACH</td>\n",
       "      <td>1</td>\n",
       "      <td>15</td>\n",
       "      <td>27</td>\n",
       "      <td>1</td>\n",
       "    </tr>\n",
       "    <tr>\n",
       "      <th>2</th>\n",
       "      <td>15781</td>\n",
       "      <td>15781</td>\n",
       "      <td>12370.70</td>\n",
       "      <td>US Dollar</td>\n",
       "      <td>12370.70</td>\n",
       "      <td>US Dollar</td>\n",
       "      <td>Reinvestment</td>\n",
       "      <td>0</td>\n",
       "      <td>0</td>\n",
       "      <td>23</td>\n",
       "      <td>0</td>\n",
       "    </tr>\n",
       "    <tr>\n",
       "      <th>3</th>\n",
       "      <td>1213</td>\n",
       "      <td>2609</td>\n",
       "      <td>8691042.90</td>\n",
       "      <td>Euro</td>\n",
       "      <td>8691042.90</td>\n",
       "      <td>Euro</td>\n",
       "      <td>ACH</td>\n",
       "      <td>1</td>\n",
       "      <td>0</td>\n",
       "      <td>32</td>\n",
       "      <td>1</td>\n",
       "    </tr>\n",
       "    <tr>\n",
       "      <th>4</th>\n",
       "      <td>29574</td>\n",
       "      <td>211052</td>\n",
       "      <td>16473.56</td>\n",
       "      <td>US Dollar</td>\n",
       "      <td>16473.56</td>\n",
       "      <td>US Dollar</td>\n",
       "      <td>ACH</td>\n",
       "      <td>1</td>\n",
       "      <td>16</td>\n",
       "      <td>41</td>\n",
       "      <td>1</td>\n",
       "    </tr>\n",
       "  </tbody>\n",
       "</table>\n",
       "</div>"
      ],
      "text/plain": [
       "   From Bank  To Bank  Amount Received Receiving Currency  Amount Paid  \\\n",
       "0       8882   117497          4807.91          US Dollar      4807.91   \n",
       "1     237777   252706          5302.32          US Dollar      5302.32   \n",
       "2      15781    15781         12370.70          US Dollar     12370.70   \n",
       "3       1213     2609       8691042.90               Euro   8691042.90   \n",
       "4      29574   211052         16473.56          US Dollar     16473.56   \n",
       "\n",
       "  Payment Currency Payment Format  Is Laundering  Hour  Minutes  \\\n",
       "0        US Dollar            ACH              1     4       56   \n",
       "1        US Dollar            ACH              1    15       27   \n",
       "2        US Dollar   Reinvestment              0     0       23   \n",
       "3             Euro            ACH              1     0       32   \n",
       "4        US Dollar            ACH              1    16       41   \n",
       "\n",
       "   Different Account  \n",
       "0                  1  \n",
       "1                  1  \n",
       "2                  0  \n",
       "3                  1  \n",
       "4                  1  "
      ]
     },
     "execution_count": 35,
     "metadata": {},
     "output_type": "execute_result"
    }
   ],
   "source": [
    "df.head()"
   ]
  },
  {
   "cell_type": "code",
   "execution_count": 36,
   "id": "dba7c396",
   "metadata": {},
   "outputs": [
    {
     "name": "stdout",
     "output_type": "stream",
     "text": [
      "<class 'pandas.core.frame.DataFrame'>\n",
      "RangeIndex: 157622 entries, 0 to 157621\n",
      "Data columns (total 11 columns):\n",
      " #   Column              Non-Null Count   Dtype  \n",
      "---  ------              --------------   -----  \n",
      " 0   From Bank           157622 non-null  int64  \n",
      " 1   To Bank             157622 non-null  int64  \n",
      " 2   Amount Received     157622 non-null  float64\n",
      " 3   Receiving Currency  157622 non-null  object \n",
      " 4   Amount Paid         157622 non-null  float64\n",
      " 5   Payment Currency    157622 non-null  object \n",
      " 6   Payment Format      157622 non-null  object \n",
      " 7   Is Laundering       157622 non-null  int64  \n",
      " 8   Hour                157622 non-null  int64  \n",
      " 9   Minutes             157622 non-null  int64  \n",
      " 10  Different Account   157622 non-null  int32  \n",
      "dtypes: float64(2), int32(1), int64(5), object(3)\n",
      "memory usage: 12.6+ MB\n"
     ]
    }
   ],
   "source": [
    "# Lihat kembali informasi data\n",
    "df.info()"
   ]
  },
  {
   "cell_type": "markdown",
   "id": "dc6f285f",
   "metadata": {},
   "source": [
    "## Advanced Exploratory Data Analysis (Visualization Data)\n",
    "Pada bagian ini, saya mengupayakan tindakan lanjutan dalam mengeksplor kembali data yang saya miliki. Hal ini bertujuan agar saya mengerti tindakan apa yang harus saya lakukan terhadap data yang ada guna membangun sebuah Model Machine Learning yang optimal."
   ]
  },
  {
   "cell_type": "code",
   "execution_count": 37,
   "id": "8bdaba76",
   "metadata": {},
   "outputs": [],
   "source": [
    "#import library\n",
    "import matplotlib.pyplot as plt\n",
    "import seaborn as sns"
   ]
  },
  {
   "cell_type": "code",
   "execution_count": 39,
   "id": "f6b1b387",
   "metadata": {},
   "outputs": [
    {
     "data": {
      "image/png": "[encoded data removed]",
      "text/plain": [
       "<Figure size 640x480 with 1 Axes>"
      ]
     },
     "metadata": {},
     "output_type": "display_data"
    }
   ],
   "source": [
    "# Membuat barplot\n",
    "df['Is Laundering'].value_counts().plot(kind='bar', color=['skyblue', 'salmon'])\n",
    "\n",
    "# Menambahkan label dan judul\n",
    "plt.xlabel('Status Money Laundry')\n",
    "plt.ylabel('Jumlah Data')\n",
    "plt.title('Distribusi Status Money Laundry dalam Data')\n",
    "\n",
    "# Menampilkan barplot\n",
    "plt.show()"
   ]
  },
  {
   "cell_type": "markdown",
   "id": "cd74b2d7",
   "metadata": {},
   "source": [
    "Insight : Visualisasi diatas dapat memberikan gambaran terhadap perbandingan antara data yang teridentifikasi sebagai money laundry dan yang tidak teridentifikasi sebagai money laundry. Ternyata, dataframe df memiliki data yang tidak teridentifikasi sebagai money laundry lebih banyak dibandikan yang teridentifikasi money laundry. Tetapi perbedaannya tidak terlalu signifikan dimana masih dalam batas normal dengan ratio kurang lebih 2/3 : 1/3."
   ]
  },
  {
   "cell_type": "code",
   "execution_count": 40,
   "id": "b78d40c1",
   "metadata": {},
   "outputs": [
    {
     "data": {
      "image/png": "[encoded data removed]",
      "text/plain": [
       "<Figure size 640x480 with 1 Axes>"
      ]
     },
     "metadata": {},
     "output_type": "display_data"
    }
   ],
   "source": [
    "# Membuat pie chart dengan kolom 'Payment Format'\n",
    "plt.pie(df['Payment Format'].value_counts(), labels=df['Payment Format'].value_counts().index, autopct='%1.1f%%', startangle=140)\n",
    "\n",
    "# Menambahkan judul\n",
    "plt.title('Distribusi Format Pembayaran')\n",
    "\n",
    "# Menampilkan pie chart\n",
    "plt.show()"
   ]
  },
  {
   "cell_type": "markdown",
   "id": "e129cc06",
   "metadata": {},
   "source": [
    "Insight : Dengan visualisasi dengan pie chart saya dapat melihat dengan jelas perbandingan proporsi data dalam bentuk persentase jumlah data berdasarkan format pembayaran yang ada. Dari visualisasi dengan pie chart, terlihat bahwa ada 2 format pembayaran yang paling sering digunakan untuk transaksi yakni adalah Reinvestment dengan proporsi 46.7% dan disusul oleh ACH dengan proporsi 34.6%.\n",
    "\n",
    "Reinvestment merujuk pada tindakan menginvestasikan kembali dana yang telah diterima dari investasi sebelumnya. Ini dapat terjadi dalam berbagai konteks, seperti dividen yang diperoleh dari investasi saham yang kemudian diinvestasikan kembali untuk membeli lebih banyak saham.\n",
    "\n",
    "ACH adalah sistem pembayaran elektronik yang digunakan untuk memproses transfer dana secara elektronik antara rekening bank di Amerika Serikat."
   ]
  },
  {
   "cell_type": "code",
   "execution_count": 41,
   "id": "f32529a2",
   "metadata": {},
   "outputs": [
    {
     "data": {
      "image/png": "[encoded data removed]",
      "text/plain": [
       "<Figure size 1200x600 with 2 Axes>"
      ]
     },
     "metadata": {},
     "output_type": "display_data"
    }
   ],
   "source": [
    "# Menghitung frekuensi setiap nilai dalam kolom 'Receiving Currency'\n",
    "receiving_currency_counts = df['Receiving Currency'].value_counts().reset_index()\n",
    "receiving_currency_counts.columns = ['Receiving Currency', 'Count']\n",
    "\n",
    "# Membuat heatmap dengan data frekuensi\n",
    "plt.figure(figsize=(12, 6))\n",
    "sns.heatmap(receiving_currency_counts.set_index('Receiving Currency'), annot=True, cbar_kws={'label': 'Jumlah'})\n",
    "\n",
    "# Menambahkan judul\n",
    "plt.title('Heatmap Distribusi Jumlah Receiving Currency')\n",
    "\n",
    "# Menampilkan heatmap\n",
    "plt.show()"
   ]
  },
  {
   "cell_type": "markdown",
   "id": "c18a023f",
   "metadata": {},
   "source": [
    "Insight : untuk memberikan variasi plotting dalam mengeksplor lebih jauh tentang dataset, saya juga menyajikan visualisasi dalam bentuk heatmap untuk melihat Receiving Currency yang digunakan terbanyak. Semakin terang warna heatmapnya, maka semakin banyak Receiving Currency tersebut digunakam. Dalam kasus ini Receiving Currency terbanyak dipegang oleh US Dollar."
   ]
  },
  {
   "cell_type": "code",
   "execution_count": 42,
   "id": "01239fb2",
   "metadata": {},
   "outputs": [
    {
     "data": {
      "image/png": "[encoded data removed]",
      "text/plain": [
       "<Figure size 1000x600 with 2 Axes>"
      ]
     },
     "metadata": {},
     "output_type": "display_data"
    }
   ],
   "source": [
    "# Memilih kolom-kolom numerik untuk heatmap korelasi\n",
    "numeric_columns = df[['Amount Received', 'Amount Paid']]\n",
    "\n",
    "# Membuat heatmap korelasi\n",
    "plt.figure(figsize=(10, 6))\n",
    "sns.heatmap(numeric_columns.corr(), annot=True, cmap='coolwarm', fmt='.2f', cbar_kws={'label': 'Korelasi'})\n",
    "\n",
    "# Menambahkan judul\n",
    "plt.title('Heatmap Korelasi Antara Ammount Received dan Ammount Paid')\n",
    "\n",
    "# Menampilkan heatmap\n",
    "plt.show()"
   ]
  },
  {
   "cell_type": "markdown",
   "id": "8cb932d9",
   "metadata": {},
   "source": [
    "Insight : Dari Visualisasi diatas saya kembali menggunakan heatmap tetapi dengan penyajian yang berbeda. Heatmap diatas bukan untuk menunjukan distribusi atau penyebaran data seperti pada plot sebelumnya, tetapi untuk menunjukan korelasi antar atribut. Dalam visualisasi diatas, terlihat bahwa kolom 'Ammount Received' dan 'Ammount Paid' memiliki korelasi yang sempurna karena bernilai 1. Hal ini berarti ada hubungan yang kuat antara Jumlah uang yang diterima di akun transaksi asal dengan Jumlah uang yang dibayarkan."
   ]
  },
  {
   "cell_type": "code",
   "execution_count": 43,
   "id": "6751a771",
   "metadata": {},
   "outputs": [
    {
     "data": {
      "image/png": "[encoded data removed]",
      "text/plain": [
       "<Figure size 1500x1000 with 2 Axes>"
      ]
     },
     "metadata": {},
     "output_type": "display_data"
    }
   ],
   "source": [
    "#Plot Categorical VS Target\n",
    "cate = [\"Receiving Currency\",\"Payment Currency\"]\n",
    "\n",
    "fig, axes = plt.subplots(2,1,figsize=(15,10))\n",
    "for cat, ax in zip(cate, axes.flatten()) :\n",
    "  sns.countplot(x=cat,data=df,hue=\"Is Laundering\",ax=ax)"
   ]
  },
  {
   "cell_type": "markdown",
   "id": "d0084670",
   "metadata": {},
   "source": [
    "Insight : Visualisasi diatas merupakan salah satu visualisasi terpenting ketika saya mengeksplore data yang ada lebih lanjut. Dari visualisasi diatas saya dapat membandingkan jumlah transaksi money laundry dan yang bukan money laundry terhadap payment currency yang mereka gunakan. Terlihat jelas bahwa hampir semua transaksi yang BUKAN MONEY LAUNDRY (bar berwarna biru) menggunakan US DOllar sebagai payment currency mereka. Hanya ada sangat sedikit transaksi yang bukan money laundry yang tidak menggunakan US Dollar sebagai payment currencynya.\n",
    "\n",
    "Tetapi, perlu dicermati juga payment currency yang digunakan oleh para PELAKU MONEY LAUNDRY (bar berwarna orange). Kebanyakan dari mereka menggunakan payment currency yang tersebar di beberapa currency tidak hanya US Dollar, tetapi juga di Euro, Yuan, UK Pound, dan currency lainnya jauh melebihi yang bukan money laundry. Hal ini berarti satu hal yakni : para pelaku money laundry melakukan transasinya dengan menggunakan currency yang tidak hanya US Dollar seperti orang pada umumnya, tetapi banyak di currency lain yang jarang dipakai oleh orang normal."
   ]
  },
  {
   "cell_type": "code",
   "execution_count": 44,
   "id": "3f08316d",
   "metadata": {},
   "outputs": [
    {
     "data": {
      "image/png": "[encoded data removed]",
      "text/plain": [
       "<Figure size 640x480 with 1 Axes>"
      ]
     },
     "metadata": {},
     "output_type": "display_data"
    }
   ],
   "source": [
    "boxplot = df.boxplot(['Amount Received','Amount Paid'])"
   ]
  },
  {
   "cell_type": "markdown",
   "id": "d674152c",
   "metadata": {},
   "source": [
    "Insight : Visualisasi bocplot diatas merupakan boxplot untuk melihat outliers yang sudah kita ketahui sebelumnya, lingkaran dengan border hitam menunjukan nilai nilai outliers yang berada diluar boxplot. Artinya ada 45 lingkaran border hitam (outliers) yang Ammount Reveived dan Ammont Paidnya jauh lebih banyak dari kebanyakan transaksi orang normal."
   ]
  },
  {
   "cell_type": "code",
   "execution_count": 45,
   "id": "90389500",
   "metadata": {},
   "outputs": [
    {
     "data": {
      "image/png": "[encoded data removed]",
      "text/plain": [
       "<Figure size 640x480 with 1 Axes>"
      ]
     },
     "metadata": {},
     "output_type": "display_data"
    }
   ],
   "source": [
    "# Menghitung frekuensi kemunculan kombinasi kategori\n",
    "cross_tab = pd.crosstab(df['Is Laundering'], df['Different Account'])\n",
    "\n",
    "# Membuat heatmap dengan label\n",
    "sns.heatmap(cross_tab, annot=True, fmt='d', cmap='Reds', annot_kws={\"size\": 16}, cbar=False)\n",
    "\n",
    "# Menambahkan label pada sumbu x dan y\n",
    "plt.xlabel('Predicted Label')\n",
    "plt.ylabel('Actual Label')\n",
    "plt.title('Confusion Matrix Transaksi ke Rekening yang Berbeda Terhadap Transaksi Money Laundry')\n",
    "\n",
    "# Menampilkan plot\n",
    "plt.show()"
   ]
  },
  {
   "cell_type": "markdown",
   "id": "22260b15",
   "metadata": {},
   "source": [
    "Insight : Visualisasi diatas adalah Confusion Matrix yang menunjukan jumlah True Positive, True Negative, False Positive, False Negative yang ada pada kolom 'Different Account' antara actual dan predicted valuenya. "
   ]
  },
  {
   "cell_type": "code",
   "execution_count": 64,
   "id": "c1fa43ff",
   "metadata": {},
   "outputs": [
    {
     "data": {
      "image/png": "[encoded data removed]",
      "text/plain": [
       "<Figure size 1000x600 with 1 Axes>"
      ]
     },
     "metadata": {},
     "output_type": "display_data"
    }
   ],
   "source": [
    "# Filter DataFrame hanya untuk 'Is Laundering' yang memiliki nilai 1\n",
    "df_is_laundering_1 = df[df['Is Laundering'] == 1]\n",
    "\n",
    "# Pembuatan Histogra,\n",
    "plt.figure(figsize=(10, 6))\n",
    "sns.histplot(data=df_is_laundering_1, x='Hour', bins=24, kde=True, color='skyblue')\n",
    "plt.title('Distribusi Kolom Hour untuk Is Laundering = 1')\n",
    "plt.xlabel('Jam')\n",
    "plt.ylabel('Frekuensi')\n",
    "plt.show()"
   ]
  },
  {
   "cell_type": "markdown",
   "id": "a05fc6e6",
   "metadata": {},
   "source": [
    "Insight : Para pelaku money laundry kebanyakan melakukan transaksinya di siang hari sekitar jam 11.00 - 15.00"
   ]
  },
  {
   "cell_type": "markdown",
   "id": "765a5dcc",
   "metadata": {},
   "source": [
    "## Check Data Variation\n",
    "tahapan selanjut adalah saya melihat variasi data dari masing masing kolom yang bertipe kategorik"
   ]
  },
  {
   "cell_type": "code",
   "execution_count": 56,
   "id": "0012c0bc",
   "metadata": {},
   "outputs": [
    {
     "name": "stdout",
     "output_type": "stream",
     "text": [
      "<class 'pandas.core.frame.DataFrame'>\n",
      "RangeIndex: 157622 entries, 0 to 157621\n",
      "Data columns (total 11 columns):\n",
      " #   Column              Non-Null Count   Dtype  \n",
      "---  ------              --------------   -----  \n",
      " 0   From Bank           157622 non-null  int64  \n",
      " 1   To Bank             157622 non-null  int64  \n",
      " 2   Amount Received     157622 non-null  float64\n",
      " 3   Receiving Currency  157622 non-null  object \n",
      " 4   Amount Paid         157622 non-null  float64\n",
      " 5   Payment Currency    157622 non-null  object \n",
      " 6   Payment Format      157622 non-null  object \n",
      " 7   Is Laundering       157622 non-null  int64  \n",
      " 8   Hour                157622 non-null  int64  \n",
      " 9   Minutes             157622 non-null  int64  \n",
      " 10  Different Account   157622 non-null  int32  \n",
      "dtypes: float64(2), int32(1), int64(5), object(3)\n",
      "memory usage: 12.6+ MB\n"
     ]
    }
   ],
   "source": [
    "df.info()"
   ]
  },
  {
   "cell_type": "code",
   "execution_count": 57,
   "id": "3c46b3a1",
   "metadata": {},
   "outputs": [
    {
     "data": {
      "text/plain": [
       "From Bank               9097\n",
       "To Bank                 9829\n",
       "Amount Received       123447\n",
       "Receiving Currency        15\n",
       "Amount Paid           123609\n",
       "Payment Currency          15\n",
       "Payment Format             7\n",
       "Is Laundering              2\n",
       "Hour                      24\n",
       "Minutes                   60\n",
       "Different Account          2\n",
       "dtype: int64"
      ]
     },
     "execution_count": 57,
     "metadata": {},
     "output_type": "execute_result"
    }
   ],
   "source": [
    "#check data variation\n",
    "df.nunique()"
   ]
  },
  {
   "cell_type": "markdown",
   "id": "21f353e2",
   "metadata": {},
   "source": [
    "*) Payment Currency dan Receiving Currency masing-masing memiliki 15 unique value\n",
    "\n",
    "\n",
    "*) Payment Format memiliki 7 unique value"
   ]
  },
  {
   "cell_type": "code",
   "execution_count": 58,
   "id": "74a98c87",
   "metadata": {},
   "outputs": [
    {
     "data": {
      "text/plain": [
       "array(['US Dollar', 'Euro', 'Yen', 'Ruble', 'Yuan', 'Shekel',\n",
       "       'Saudi Riyal', 'Australian Dollar', 'Brazil Real', 'Rupee',\n",
       "       'UK Pound', 'Mexican Peso', 'Swiss Franc', 'Bitcoin',\n",
       "       'Canadian Dollar'], dtype=object)"
      ]
     },
     "execution_count": 58,
     "metadata": {},
     "output_type": "execute_result"
    }
   ],
   "source": [
    "# melihat variasi kolom Payment Currency\n",
    "df['Payment Currency'].unique()"
   ]
  },
  {
   "cell_type": "code",
   "execution_count": 59,
   "id": "6ad87fdd",
   "metadata": {},
   "outputs": [
    {
     "data": {
      "text/plain": [
       "array(['US Dollar', 'Euro', 'Yen', 'Ruble', 'Yuan', 'Shekel',\n",
       "       'Saudi Riyal', 'Australian Dollar', 'Brazil Real', 'Rupee',\n",
       "       'UK Pound', 'Mexican Peso', 'Swiss Franc', 'Bitcoin',\n",
       "       'Canadian Dollar'], dtype=object)"
      ]
     },
     "execution_count": 59,
     "metadata": {},
     "output_type": "execute_result"
    }
   ],
   "source": [
    "# melihat variasi kolom Receiving Currency\n",
    "df['Receiving Currency'].unique()"
   ]
  },
  {
   "cell_type": "code",
   "execution_count": 60,
   "id": "9ee55af3",
   "metadata": {},
   "outputs": [
    {
     "data": {
      "text/plain": [
       "array(['ACH', 'Reinvestment', 'Cash', 'Credit Card', 'Cheque', 'Wire',\n",
       "       'Bitcoin'], dtype=object)"
      ]
     },
     "execution_count": 60,
     "metadata": {},
     "output_type": "execute_result"
    }
   ],
   "source": [
    "# melihat variasi kolom Payment Format\n",
    "df['Payment Format'].unique()"
   ]
  },
  {
   "cell_type": "markdown",
   "id": "bb5bfea1",
   "metadata": {},
   "source": [
    "## Feature Engineering\n",
    "Tujuan saya melihat variasi data kategorik diatas adalah untuk menentukan feature Engineering yang tepat untuk masing-masing kolom kategorik. Seperti yang sudah diketahui bersama, Machine Learning hanya dapat mengolah data numerik, maka data kategorik harus diubah ke data numerik dengan Feature Engineering. Feature Engineering memiliki beberapa metode seperti :\n",
    "\n",
    "*) Binary Encoding (untuk mengubah data kategorik yang hanya memiliki 2 unique value)\n",
    "\n",
    "*) One Hot Encoding (untuk mengubah data kategorik yang memiliki lebih dari 2 unique value)\n",
    "\n",
    "*) Label Encoding (untuk mengubah data kategorik menjadi label yang kita tentukan sendiri)\n",
    "\n",
    "*) Frequency Encoding (untuk mengubah data kategorik menjadi numerik berdasarkan frekuensi munculnya masing-masing value)\n",
    "\n",
    "*) mean Encoding (untuk mengubah data kategorik menjadi numerik berdasarkan mean)\n",
    "\n",
    "NOTES : Sangat penting untuk saya dapat memilih dengan bijak metode mana yang paling sesuai untuk suatu kolom kategorik"
   ]
  },
  {
   "cell_type": "code",
   "execution_count": 65,
   "id": "9b029a9b",
   "metadata": {},
   "outputs": [
    {
     "data": {
      "text/html": [
       "<div>\n",
       "<style scoped>\n",
       "    .dataframe tbody tr th:only-of-type {\n",
       "        vertical-align: middle;\n",
       "    }\n",
       "\n",
       "    .dataframe tbody tr th {\n",
       "        vertical-align: top;\n",
       "    }\n",
       "\n",
       "    .dataframe thead th {\n",
       "        text-align: right;\n",
       "    }\n",
       "</style>\n",
       "<table border=\"1\" class=\"dataframe\">\n",
       "  <thead>\n",
       "    <tr style=\"text-align: right;\">\n",
       "      <th></th>\n",
       "      <th>From Bank</th>\n",
       "      <th>To Bank</th>\n",
       "      <th>Amount Received</th>\n",
       "      <th>Receiving Currency</th>\n",
       "      <th>Amount Paid</th>\n",
       "      <th>Payment Currency</th>\n",
       "      <th>Payment Format</th>\n",
       "      <th>Is Laundering</th>\n",
       "      <th>Hour</th>\n",
       "      <th>Minutes</th>\n",
       "      <th>Different Account</th>\n",
       "    </tr>\n",
       "  </thead>\n",
       "  <tbody>\n",
       "    <tr>\n",
       "      <th>0</th>\n",
       "      <td>8882</td>\n",
       "      <td>117497</td>\n",
       "      <td>4807.91</td>\n",
       "      <td>US Dollar</td>\n",
       "      <td>4807.91</td>\n",
       "      <td>US Dollar</td>\n",
       "      <td>ACH</td>\n",
       "      <td>1</td>\n",
       "      <td>4</td>\n",
       "      <td>56</td>\n",
       "      <td>1</td>\n",
       "    </tr>\n",
       "    <tr>\n",
       "      <th>1</th>\n",
       "      <td>237777</td>\n",
       "      <td>252706</td>\n",
       "      <td>5302.32</td>\n",
       "      <td>US Dollar</td>\n",
       "      <td>5302.32</td>\n",
       "      <td>US Dollar</td>\n",
       "      <td>ACH</td>\n",
       "      <td>1</td>\n",
       "      <td>15</td>\n",
       "      <td>27</td>\n",
       "      <td>1</td>\n",
       "    </tr>\n",
       "    <tr>\n",
       "      <th>2</th>\n",
       "      <td>15781</td>\n",
       "      <td>15781</td>\n",
       "      <td>12370.70</td>\n",
       "      <td>US Dollar</td>\n",
       "      <td>12370.70</td>\n",
       "      <td>US Dollar</td>\n",
       "      <td>Reinvestment</td>\n",
       "      <td>0</td>\n",
       "      <td>0</td>\n",
       "      <td>23</td>\n",
       "      <td>0</td>\n",
       "    </tr>\n",
       "    <tr>\n",
       "      <th>3</th>\n",
       "      <td>1213</td>\n",
       "      <td>2609</td>\n",
       "      <td>8691042.90</td>\n",
       "      <td>Euro</td>\n",
       "      <td>8691042.90</td>\n",
       "      <td>Euro</td>\n",
       "      <td>ACH</td>\n",
       "      <td>1</td>\n",
       "      <td>0</td>\n",
       "      <td>32</td>\n",
       "      <td>1</td>\n",
       "    </tr>\n",
       "    <tr>\n",
       "      <th>4</th>\n",
       "      <td>29574</td>\n",
       "      <td>211052</td>\n",
       "      <td>16473.56</td>\n",
       "      <td>US Dollar</td>\n",
       "      <td>16473.56</td>\n",
       "      <td>US Dollar</td>\n",
       "      <td>ACH</td>\n",
       "      <td>1</td>\n",
       "      <td>16</td>\n",
       "      <td>41</td>\n",
       "      <td>1</td>\n",
       "    </tr>\n",
       "  </tbody>\n",
       "</table>\n",
       "</div>"
      ],
      "text/plain": [
       "   From Bank  To Bank  Amount Received Receiving Currency  Amount Paid  \\\n",
       "0       8882   117497          4807.91          US Dollar      4807.91   \n",
       "1     237777   252706          5302.32          US Dollar      5302.32   \n",
       "2      15781    15781         12370.70          US Dollar     12370.70   \n",
       "3       1213     2609       8691042.90               Euro   8691042.90   \n",
       "4      29574   211052         16473.56          US Dollar     16473.56   \n",
       "\n",
       "  Payment Currency Payment Format  Is Laundering  Hour  Minutes  \\\n",
       "0        US Dollar            ACH              1     4       56   \n",
       "1        US Dollar            ACH              1    15       27   \n",
       "2        US Dollar   Reinvestment              0     0       23   \n",
       "3             Euro            ACH              1     0       32   \n",
       "4        US Dollar            ACH              1    16       41   \n",
       "\n",
       "   Different Account  \n",
       "0                  1  \n",
       "1                  1  \n",
       "2                  0  \n",
       "3                  1  \n",
       "4                  1  "
      ]
     },
     "execution_count": 65,
     "metadata": {},
     "output_type": "execute_result"
    }
   ],
   "source": [
    "#Before Feature Engineering\n",
    "df.head()"
   ]
  },
  {
   "cell_type": "markdown",
   "id": "c0ed0760",
   "metadata": {},
   "source": [
    "Untuk kolom 'Payment Currency' dan 'Receiving Currency' saya sepakat untuk menggunakan frekuensi encoding. Alasannya karena variasi data nya cukup banyak (terdapat 15 unique value) sehingga tidak bisa menggunakan binary encoding dan juga akan sangat memberatkan jika menggunakan one hot ecoding. Selain itu alasan saya memilih frequency encoding adalah karena saya ingin mengganti suatu value dengan seberapa sering value tersebut muncul jika dibandingkan dengan value unik yang lainnya."
   ]
  },
  {
   "cell_type": "code",
   "execution_count": 66,
   "id": "e4cd7fdd",
   "metadata": {},
   "outputs": [],
   "source": [
    "#Create a Frequency Encoding Function\n",
    "def frequency_encoding(data,features) :\n",
    "    freq_encoding=data.groupby(features).size()/len(data)\n",
    "    return freq_encoding"
   ]
  },
  {
   "cell_type": "code",
   "execution_count": 67,
   "id": "e2261f3d",
   "metadata": {},
   "outputs": [],
   "source": [
    "df['Payment Currency'] = df['Payment Currency'].map(frequency_encoding(df,df['Payment Currency']))"
   ]
  },
  {
   "cell_type": "code",
   "execution_count": 68,
   "id": "78c76115",
   "metadata": {},
   "outputs": [],
   "source": [
    "df['Receiving Currency'] = df['Receiving Currency'].map(frequency_encoding(df,df['Receiving Currency']))"
   ]
  },
  {
   "cell_type": "markdown",
   "id": "5a8cc824",
   "metadata": {},
   "source": [
    "Pada kolom 'Payment Format' saya sepakat untuk menggunakan one hot encoding sebagai feature engineering karena jumlah unique value dari kolom 'Payment Format' hanya ada 7 sehingga tidak terlalu memberatkan saat pembangunan model Machine Learning."
   ]
  },
  {
   "cell_type": "code",
   "execution_count": 69,
   "id": "892d19c9",
   "metadata": {},
   "outputs": [],
   "source": [
    "#One hot encoding For Payment Format\n",
    "df = pd.get_dummies(df,columns=['Payment Format'])"
   ]
  },
  {
   "cell_type": "code",
   "execution_count": 70,
   "id": "0526adc5",
   "metadata": {},
   "outputs": [
    {
     "data": {
      "text/html": [
       "<div>\n",
       "<style scoped>\n",
       "    .dataframe tbody tr th:only-of-type {\n",
       "        vertical-align: middle;\n",
       "    }\n",
       "\n",
       "    .dataframe tbody tr th {\n",
       "        vertical-align: top;\n",
       "    }\n",
       "\n",
       "    .dataframe thead th {\n",
       "        text-align: right;\n",
       "    }\n",
       "</style>\n",
       "<table border=\"1\" class=\"dataframe\">\n",
       "  <thead>\n",
       "    <tr style=\"text-align: right;\">\n",
       "      <th></th>\n",
       "      <th>From Bank</th>\n",
       "      <th>To Bank</th>\n",
       "      <th>Amount Received</th>\n",
       "      <th>Receiving Currency</th>\n",
       "      <th>Amount Paid</th>\n",
       "      <th>Payment Currency</th>\n",
       "      <th>Is Laundering</th>\n",
       "      <th>Hour</th>\n",
       "      <th>Minutes</th>\n",
       "      <th>Different Account</th>\n",
       "      <th>Payment Format_ACH</th>\n",
       "      <th>Payment Format_Bitcoin</th>\n",
       "      <th>Payment Format_Cash</th>\n",
       "      <th>Payment Format_Cheque</th>\n",
       "      <th>Payment Format_Credit Card</th>\n",
       "      <th>Payment Format_Reinvestment</th>\n",
       "      <th>Payment Format_Wire</th>\n",
       "    </tr>\n",
       "  </thead>\n",
       "  <tbody>\n",
       "    <tr>\n",
       "      <th>0</th>\n",
       "      <td>8882</td>\n",
       "      <td>117497</td>\n",
       "      <td>4807.91</td>\n",
       "      <td>0.781078</td>\n",
       "      <td>4807.91</td>\n",
       "      <td>0.780342</td>\n",
       "      <td>1</td>\n",
       "      <td>4</td>\n",
       "      <td>56</td>\n",
       "      <td>1</td>\n",
       "      <td>1</td>\n",
       "      <td>0</td>\n",
       "      <td>0</td>\n",
       "      <td>0</td>\n",
       "      <td>0</td>\n",
       "      <td>0</td>\n",
       "      <td>0</td>\n",
       "    </tr>\n",
       "    <tr>\n",
       "      <th>1</th>\n",
       "      <td>237777</td>\n",
       "      <td>252706</td>\n",
       "      <td>5302.32</td>\n",
       "      <td>0.781078</td>\n",
       "      <td>5302.32</td>\n",
       "      <td>0.780342</td>\n",
       "      <td>1</td>\n",
       "      <td>15</td>\n",
       "      <td>27</td>\n",
       "      <td>1</td>\n",
       "      <td>1</td>\n",
       "      <td>0</td>\n",
       "      <td>0</td>\n",
       "      <td>0</td>\n",
       "      <td>0</td>\n",
       "      <td>0</td>\n",
       "      <td>0</td>\n",
       "    </tr>\n",
       "    <tr>\n",
       "      <th>2</th>\n",
       "      <td>15781</td>\n",
       "      <td>15781</td>\n",
       "      <td>12370.70</td>\n",
       "      <td>0.781078</td>\n",
       "      <td>12370.70</td>\n",
       "      <td>0.780342</td>\n",
       "      <td>0</td>\n",
       "      <td>0</td>\n",
       "      <td>23</td>\n",
       "      <td>0</td>\n",
       "      <td>0</td>\n",
       "      <td>0</td>\n",
       "      <td>0</td>\n",
       "      <td>0</td>\n",
       "      <td>0</td>\n",
       "      <td>1</td>\n",
       "      <td>0</td>\n",
       "    </tr>\n",
       "    <tr>\n",
       "      <th>3</th>\n",
       "      <td>1213</td>\n",
       "      <td>2609</td>\n",
       "      <td>8691042.90</td>\n",
       "      <td>0.102200</td>\n",
       "      <td>8691042.90</td>\n",
       "      <td>0.102904</td>\n",
       "      <td>1</td>\n",
       "      <td>0</td>\n",
       "      <td>32</td>\n",
       "      <td>1</td>\n",
       "      <td>1</td>\n",
       "      <td>0</td>\n",
       "      <td>0</td>\n",
       "      <td>0</td>\n",
       "      <td>0</td>\n",
       "      <td>0</td>\n",
       "      <td>0</td>\n",
       "    </tr>\n",
       "    <tr>\n",
       "      <th>4</th>\n",
       "      <td>29574</td>\n",
       "      <td>211052</td>\n",
       "      <td>16473.56</td>\n",
       "      <td>0.781078</td>\n",
       "      <td>16473.56</td>\n",
       "      <td>0.780342</td>\n",
       "      <td>1</td>\n",
       "      <td>16</td>\n",
       "      <td>41</td>\n",
       "      <td>1</td>\n",
       "      <td>1</td>\n",
       "      <td>0</td>\n",
       "      <td>0</td>\n",
       "      <td>0</td>\n",
       "      <td>0</td>\n",
       "      <td>0</td>\n",
       "      <td>0</td>\n",
       "    </tr>\n",
       "  </tbody>\n",
       "</table>\n",
       "</div>"
      ],
      "text/plain": [
       "   From Bank  To Bank  Amount Received  Receiving Currency  Amount Paid  \\\n",
       "0       8882   117497          4807.91            0.781078      4807.91   \n",
       "1     237777   252706          5302.32            0.781078      5302.32   \n",
       "2      15781    15781         12370.70            0.781078     12370.70   \n",
       "3       1213     2609       8691042.90            0.102200   8691042.90   \n",
       "4      29574   211052         16473.56            0.781078     16473.56   \n",
       "\n",
       "   Payment Currency  Is Laundering  Hour  Minutes  Different Account  \\\n",
       "0          0.780342              1     4       56                  1   \n",
       "1          0.780342              1    15       27                  1   \n",
       "2          0.780342              0     0       23                  0   \n",
       "3          0.102904              1     0       32                  1   \n",
       "4          0.780342              1    16       41                  1   \n",
       "\n",
       "   Payment Format_ACH  Payment Format_Bitcoin  Payment Format_Cash  \\\n",
       "0                   1                       0                    0   \n",
       "1                   1                       0                    0   \n",
       "2                   0                       0                    0   \n",
       "3                   1                       0                    0   \n",
       "4                   1                       0                    0   \n",
       "\n",
       "   Payment Format_Cheque  Payment Format_Credit Card  \\\n",
       "0                      0                           0   \n",
       "1                      0                           0   \n",
       "2                      0                           0   \n",
       "3                      0                           0   \n",
       "4                      0                           0   \n",
       "\n",
       "   Payment Format_Reinvestment  Payment Format_Wire  \n",
       "0                            0                    0  \n",
       "1                            0                    0  \n",
       "2                            1                    0  \n",
       "3                            0                    0  \n",
       "4                            0                    0  "
      ]
     },
     "execution_count": 70,
     "metadata": {},
     "output_type": "execute_result"
    }
   ],
   "source": [
    "df.head()"
   ]
  },
  {
   "cell_type": "code",
   "execution_count": 71,
   "id": "f1d5da23",
   "metadata": {},
   "outputs": [
    {
     "data": {
      "text/plain": [
       "(157622, 17)"
      ]
     },
     "execution_count": 71,
     "metadata": {},
     "output_type": "execute_result"
    }
   ],
   "source": [
    "df.shape"
   ]
  },
  {
   "cell_type": "code",
   "execution_count": 73,
   "id": "a77195ef",
   "metadata": {},
   "outputs": [
    {
     "name": "stdout",
     "output_type": "stream",
     "text": [
      "<class 'pandas.core.frame.DataFrame'>\n",
      "RangeIndex: 157622 entries, 0 to 157621\n",
      "Data columns (total 17 columns):\n",
      " #   Column                       Non-Null Count   Dtype  \n",
      "---  ------                       --------------   -----  \n",
      " 0   From Bank                    157622 non-null  int64  \n",
      " 1   To Bank                      157622 non-null  int64  \n",
      " 2   Amount Received              157622 non-null  float64\n",
      " 3   Receiving Currency           157622 non-null  float64\n",
      " 4   Amount Paid                  157622 non-null  float64\n",
      " 5   Payment Currency             157622 non-null  float64\n",
      " 6   Is Laundering                157622 non-null  int64  \n",
      " 7   Hour                         157622 non-null  int64  \n",
      " 8   Minutes                      157622 non-null  int64  \n",
      " 9   Different Account            157622 non-null  int32  \n",
      " 10  Payment Format_ACH           157622 non-null  uint8  \n",
      " 11  Payment Format_Bitcoin       157622 non-null  uint8  \n",
      " 12  Payment Format_Cash          157622 non-null  uint8  \n",
      " 13  Payment Format_Cheque        157622 non-null  uint8  \n",
      " 14  Payment Format_Credit Card   157622 non-null  uint8  \n",
      " 15  Payment Format_Reinvestment  157622 non-null  uint8  \n",
      " 16  Payment Format_Wire          157622 non-null  uint8  \n",
      "dtypes: float64(4), int32(1), int64(5), uint8(7)\n",
      "memory usage: 12.5 MB\n"
     ]
    }
   ],
   "source": [
    "# terlihat bahwa semua data type sudah dalam bentuk numerik\n",
    "df.info()"
   ]
  },
  {
   "cell_type": "markdown",
   "id": "e6519127",
   "metadata": {},
   "source": [
    "## Splitting Dataset\n",
    "Selanjutnya saya memulai pembangunan model machine learning ini dengan melakukan splitting dataset. Splitting ini bertujuan agar ada sebagian data yang menjadi bahan untuk pelatihan model Machine Learning saya (training model), dan sebagian lagi untuk mengetes model saya untuk melihat ke-akuratan model yang dibangun (testing model). Pada kasus ini, saya membagi data menjadi 80% untuk training dan 20% untuk testing."
   ]
  },
  {
   "cell_type": "code",
   "execution_count": 74,
   "id": "f4411eb3",
   "metadata": {},
   "outputs": [
    {
     "data": {
      "text/plain": [
       "((126097, 16), (31525, 16), (126097,), (31525,))"
      ]
     },
     "execution_count": 74,
     "metadata": {},
     "output_type": "execute_result"
    }
   ],
   "source": [
    "from sklearn.model_selection import train_test_split\n",
    "\n",
    "#spliting dataset\n",
    "X = df.drop(columns=\"Is Laundering\")\n",
    "y = df['Is Laundering']\n",
    "\n",
    "X_train, X_test, y_train, y_test = train_test_split(X,y,test_size=0.2, stratify=y,random_state=42)\n",
    "X_train.shape, X_test.shape, y_train.shape, y_test.shape"
   ]
  },
  {
   "cell_type": "markdown",
   "id": "f8b40c53",
   "metadata": {},
   "source": [
    "# Logistic Regression Model : Default\n",
    "Karena dalam kasus money laundry ini saya akan memprediksi apakah suatu transaksi masuk ke kategori money laundry atau tidak, maka model yang saya bangun adalah model untuk classification. Tujuannya agar model mampu mengklasifikasikan apakah suatu transaksi masuk ke kategori money laundry atau bukan. Model pertama yang kakmi bangun adalah model Logistic Regression."
   ]
  },
  {
   "cell_type": "code",
   "execution_count": 75,
   "id": "e3b050c3",
   "metadata": {},
   "outputs": [
    {
     "data": {
      "text/plain": [
       "LogisticRegression()"
      ]
     },
     "execution_count": 75,
     "metadata": {},
     "output_type": "execute_result"
    }
   ],
   "source": [
    "# Import library\n",
    "from sklearn.linear_model import LogisticRegression\n",
    "\n",
    "# Train data dengan data training\n",
    "model_log = LogisticRegression()\n",
    "model_log.fit(X_train,y_train)"
   ]
  },
  {
   "cell_type": "code",
   "execution_count": 76,
   "id": "b43dd295",
   "metadata": {},
   "outputs": [
    {
     "data": {
      "text/plain": [
       "0.36678826328310865"
      ]
     },
     "execution_count": 76,
     "metadata": {},
     "output_type": "execute_result"
    }
   ],
   "source": [
    "# melihat keakuratan model\n",
    "model_log.score(X_test,y_test)"
   ]
  },
  {
   "cell_type": "code",
   "execution_count": 77,
   "id": "bee98915",
   "metadata": {},
   "outputs": [],
   "source": [
    "y_predict_log=model_log.predict(X_test)"
   ]
  },
  {
   "cell_type": "code",
   "execution_count": 78,
   "id": "9d7009d7",
   "metadata": {},
   "outputs": [
    {
     "name": "stdout",
     "output_type": "stream",
     "text": [
      "\n",
      "Logistic Regression Classification Report (Default)\n",
      "\n",
      "              precision    recall  f1-score   support\n",
      "\n",
      "           0       1.00      0.00      0.00     20000\n",
      "           1       0.37      1.00      0.54     11525\n",
      "\n",
      "    accuracy                           0.37     31525\n",
      "   macro avg       0.68      0.50      0.27     31525\n",
      "weighted avg       0.77      0.37      0.20     31525\n",
      "\n"
     ]
    }
   ],
   "source": [
    "# Menampilkan report untuk melihat performa model\n",
    "\n",
    "from sklearn.metrics import classification_report\n",
    "print('\\nLogistic Regression Classification Report (Default)\\n')\n",
    "print(classification_report(y_test, y_predict_log))"
   ]
  },
  {
   "cell_type": "markdown",
   "id": "028ab44c",
   "metadata": {},
   "source": [
    "# LR Model Improvement : Parameter Tuning\n",
    "Model Logistic Regression diatas sangat jauh dari optimal karena hanya memiliki akurasi 37%. Maka dari itu saya mencoba untuk melakukan parameter tuning dengan GridsearchCV guna mencari parameter mana yang paling baik digunakan untuk mendapatkan akurasi paling maksimal. parameternya yakni penalty dan C."
   ]
  },
  {
   "cell_type": "code",
   "execution_count": 80,
   "id": "cf23c05d",
   "metadata": {},
   "outputs": [
    {
     "data": {
      "text/plain": [
       "GridSearchCV(cv=5, estimator=LogisticRegression(),\n",
       "             param_grid={'C': [0.001, 0.01, 0.1, 1, 10, 100],\n",
       "                         'penalty': ['l1', 'l2']},\n",
       "             scoring='accuracy')"
      ]
     },
     "execution_count": 80,
     "metadata": {},
     "output_type": "execute_result"
    }
   ],
   "source": [
    "from sklearn.model_selection import GridSearchCV\n",
    "from sklearn.linear_model import LogisticRegression\n",
    "import warnings\n",
    "warnings.filterwarnings('ignore')\n",
    "\n",
    "# Tentukan parameter apa saja yang akan dituning\n",
    "parameters = {\n",
    "    'penalty': ['l1', 'l2'],\n",
    "    'C': [0.001, 0.01, 0.1, 1, 10, 100],\n",
    "}\n",
    "\n",
    "# Inisialisasi model Logistic Regression\n",
    "modelLogReg = LogisticRegression()\n",
    "\n",
    "# Gunakan GridSearchCV untuk mencari parameter terbaik\n",
    "grid_search_logreg = GridSearchCV(modelLogReg, param_grid=parameters, scoring='accuracy', cv=5)\n",
    "grid_search_logreg.fit(X_train, y_train)"
   ]
  },
  {
   "cell_type": "code",
   "execution_count": 81,
   "id": "eb2a0c5e",
   "metadata": {},
   "outputs": [
    {
     "name": "stdout",
     "output_type": "stream",
     "text": [
      "Tuned Hyperparameters : {'C': 0.001, 'penalty': 'l2'}\n",
      "Accuracy : 0.3661942751834925\n"
     ]
    }
   ],
   "source": [
    "# Menampilkan parameter terbaik yang dapat menghasilkan akurasi maksimal yang dapat dibuat oleh Model Logistic Regression\n",
    "print(\"Tuned Hyperparameters :\", grid_search_logreg.best_params_)\n",
    "print(\"Accuracy :\",grid_search_logreg.best_score_)"
   ]
  },
  {
   "cell_type": "code",
   "execution_count": 82,
   "id": "34d74756",
   "metadata": {},
   "outputs": [
    {
     "data": {
      "text/plain": [
       "LogisticRegression(C=0.001)"
      ]
     },
     "execution_count": 82,
     "metadata": {},
     "output_type": "execute_result"
    }
   ],
   "source": [
    "#Train data dengan parameter terbaik\n",
    "modellog_best = LogisticRegression(C = 0.001, penalty = 'l2')\n",
    "modellog_best.fit(X_train,y_train)"
   ]
  },
  {
   "cell_type": "markdown",
   "id": "e5c8de0d",
   "metadata": {},
   "source": [
    "# Logistic Regression Evaluation Matrix (Best)"
   ]
  },
  {
   "cell_type": "code",
   "execution_count": 83,
   "id": "7ee990ed",
   "metadata": {},
   "outputs": [],
   "source": [
    "#testing\n",
    "y_predict_bestlog = modellog_best.predict(X_test)"
   ]
  },
  {
   "cell_type": "code",
   "execution_count": 84,
   "id": "fa81b0ee",
   "metadata": {},
   "outputs": [
    {
     "name": "stdout",
     "output_type": "stream",
     "text": [
      "\n",
      "Logistic Regression Classification Report (Tuned)\n",
      "\n",
      "              precision    recall  f1-score   support\n",
      "\n",
      "           0       1.00      0.00      0.00     20000\n",
      "           1       0.37      1.00      0.54     11525\n",
      "\n",
      "    accuracy                           0.37     31525\n",
      "   macro avg       0.68      0.50      0.27     31525\n",
      "weighted avg       0.77      0.37      0.20     31525\n",
      "\n"
     ]
    }
   ],
   "source": [
    "print('\\nLogistic Regression Classification Report (Tuned)\\n')\n",
    "print(classification_report(y_test, y_predict_bestlog))"
   ]
  },
  {
   "cell_type": "markdown",
   "id": "2418283d",
   "metadata": {},
   "source": [
    "# Naive Bayes Model : Default\n",
    "Meskipun model Logistic Regression diatas sudah dimaksimalkan dengan parameter tuning, akurasinya masih jauh dibawah (37%). Maka saya menyimpulkan bahwa dalam kasus ini saya tidak bisa menggunakan model Logistic Regression. saya melanjutkan pencarian model terbaik dengan model Naive Bayes."
   ]
  },
  {
   "cell_type": "code",
   "execution_count": 85,
   "id": "2371781c",
   "metadata": {},
   "outputs": [
    {
     "data": {
      "text/plain": [
       "MultinomialNB()"
      ]
     },
     "execution_count": 85,
     "metadata": {},
     "output_type": "execute_result"
    }
   ],
   "source": [
    "# Import library\n",
    "from sklearn.naive_bayes import MultinomialNB\n",
    "\n",
    "# Training Model\n",
    "model_nb =MultinomialNB()\n",
    "model_nb.fit(X_train, y_train)"
   ]
  },
  {
   "cell_type": "code",
   "execution_count": 87,
   "id": "db0170b1",
   "metadata": {},
   "outputs": [
    {
     "data": {
      "text/plain": [
       "0.5968279143536875"
      ]
     },
     "execution_count": 87,
     "metadata": {},
     "output_type": "execute_result"
    }
   ],
   "source": [
    "# Melihat akurasi model\n",
    "model_nb.score(X_test,y_test)"
   ]
  },
  {
   "cell_type": "code",
   "execution_count": 88,
   "id": "5b97ea8a",
   "metadata": {},
   "outputs": [],
   "source": [
    "# Testing\n",
    "y_predict_nb=model_nb.predict(X_test)"
   ]
  },
  {
   "cell_type": "code",
   "execution_count": 89,
   "id": "d93ffcee",
   "metadata": {},
   "outputs": [
    {
     "name": "stdout",
     "output_type": "stream",
     "text": [
      "\n",
      "Naive Bayes Classification Report (Default)\n",
      "\n",
      "              precision    recall  f1-score   support\n",
      "\n",
      "           0       0.62      0.91      0.74     20000\n",
      "           1       0.24      0.05      0.08     11525\n",
      "\n",
      "    accuracy                           0.60     31525\n",
      "   macro avg       0.43      0.48      0.41     31525\n",
      "weighted avg       0.48      0.60      0.50     31525\n",
      "\n"
     ]
    }
   ],
   "source": [
    "from sklearn.metrics import classification_report\n",
    "print('\\nNaive Bayes Classification Report (Default)\\n')\n",
    "print(classification_report(y_test, y_predict_nb))"
   ]
  },
  {
   "cell_type": "markdown",
   "id": "73d27f92",
   "metadata": {},
   "source": [
    "# NB Model Improvement : Parameter Tuning\n",
    "model tersebut hanya memberikan akurasi sebesar 60% dalam memprediksi apakah sebuah transaksi masuk ke kategori money laundry atau tidak. saya masih ingin mencoba memaksimalkan model naive bayes saya dengan parameter tuning menggunakan gridSearchCV. saya melakukan tuning dengan parameter alpha pada model Naive Bayes."
   ]
  },
  {
   "cell_type": "code",
   "execution_count": 90,
   "id": "5fe66fef",
   "metadata": {},
   "outputs": [
    {
     "data": {
      "text/plain": [
       "GridSearchCV(cv=5, estimator=MultinomialNB(),\n",
       "             param_grid={'alpha': [0.001, 0.01, 0.1, 1, 10, 100]},\n",
       "             scoring='accuracy')"
      ]
     },
     "execution_count": 90,
     "metadata": {},
     "output_type": "execute_result"
    }
   ],
   "source": [
    "# Import Library\n",
    "from sklearn.model_selection import GridSearchCV\n",
    "from sklearn.naive_bayes import MultinomialNB\n",
    "\n",
    "# Tentukan parameter grid untuk Multinomial Naive Bayes\n",
    "parameters = {\n",
    "    'alpha': [0.001, 0.01, 0.1, 1, 10, 100],\n",
    "}\n",
    "\n",
    "# Inisialisasi model Multinomial Naive Bayes\n",
    "modelNB = MultinomialNB()\n",
    "\n",
    "# Gunakan GridSearchCV untuk mencari parameter terbaik\n",
    "grid_search_nb = GridSearchCV(modelNB, param_grid=parameters, scoring='accuracy', cv=5)\n",
    "grid_search_nb.fit(X_train, y_train)"
   ]
  },
  {
   "cell_type": "code",
   "execution_count": 91,
   "id": "1a36173a",
   "metadata": {},
   "outputs": [
    {
     "name": "stdout",
     "output_type": "stream",
     "text": [
      "Tuned Hyperparameters : {'alpha': 0.001}\n",
      "Accuracy : 0.5981189091252932\n"
     ]
    }
   ],
   "source": [
    "# Menampilkan parameter terbaik dan akurasi maksimalnya\n",
    "\n",
    "print(\"Tuned Hyperparameters :\", grid_search_nb.best_params_)\n",
    "print(\"Accuracy :\",grid_search_nb.best_score_)"
   ]
  },
  {
   "cell_type": "code",
   "execution_count": 92,
   "id": "3692a9fd",
   "metadata": {},
   "outputs": [
    {
     "data": {
      "text/plain": [
       "MultinomialNB(alpha=0.001)"
      ]
     },
     "execution_count": 92,
     "metadata": {},
     "output_type": "execute_result"
    }
   ],
   "source": [
    "#Train data dengan parameter terbaik\n",
    "modelnb_best = MultinomialNB(alpha = 0.001)\n",
    "modelnb_best.fit(X_train,y_train)"
   ]
  },
  {
   "cell_type": "markdown",
   "id": "1febf3cc",
   "metadata": {},
   "source": [
    "# Naive Bayes Evaluation Matrix (Best)"
   ]
  },
  {
   "cell_type": "code",
   "execution_count": 115,
   "id": "14d49630",
   "metadata": {},
   "outputs": [],
   "source": [
    "y_predict_bestnb = modelnb_best.predict(X_test)"
   ]
  },
  {
   "cell_type": "code",
   "execution_count": 116,
   "id": "c7056eb8",
   "metadata": {},
   "outputs": [
    {
     "name": "stdout",
     "output_type": "stream",
     "text": [
      "\n",
      "Naive Bayes Classification Report (Tuned)\n",
      "\n",
      "              precision    recall  f1-score   support\n",
      "\n",
      "           0       0.62      0.91      0.74     20000\n",
      "           1       0.23      0.05      0.08     11525\n",
      "\n",
      "    accuracy                           0.60     31525\n",
      "   macro avg       0.43      0.48      0.41     31525\n",
      "weighted avg       0.48      0.60      0.50     31525\n",
      "\n"
     ]
    }
   ],
   "source": [
    "print('\\nNaive Bayes Classification Report (Tuned)\\n')\n",
    "print(classification_report(y_test, y_predict_bestnb))"
   ]
  },
  {
   "cell_type": "markdown",
   "id": "b38e347c",
   "metadata": {},
   "source": [
    "## K-Nearest Neighbor Model : Default\n",
    "Setelah mengoptimalkan model Naive Bayes saya masih belum menemukan model yang terbaik dengan akurasi yang cukup tinggi untuk memprediksi label 'Is Laundering'. Maka dari itu, saya mencoba menggunakan model KNN."
   ]
  },
  {
   "cell_type": "code",
   "execution_count": 93,
   "id": "f7b4db9d",
   "metadata": {},
   "outputs": [
    {
     "data": {
      "text/plain": [
       "KNeighborsClassifier(n_neighbors=1)"
      ]
     },
     "execution_count": 93,
     "metadata": {},
     "output_type": "execute_result"
    }
   ],
   "source": [
    "# Import library\n",
    "from sklearn.neighbors import KNeighborsClassifier\n",
    "import warnings\n",
    "warnings.filterwarnings('ignore')\n",
    "\n",
    "#train data dengan training data\n",
    "knn = KNeighborsClassifier(n_neighbors = 1)\n",
    "knn.fit(X_train,y_train)"
   ]
  },
  {
   "cell_type": "code",
   "execution_count": 94,
   "id": "be8a222f",
   "metadata": {},
   "outputs": [
    {
     "name": "stdout",
     "output_type": "stream",
     "text": [
      "KNN Default Accuracy :\n"
     ]
    },
    {
     "data": {
      "text/plain": [
       "0.8808247422680412"
      ]
     },
     "execution_count": 94,
     "metadata": {},
     "output_type": "execute_result"
    }
   ],
   "source": [
    "# melihat akurasi KNN dengan data testing\n",
    "print('KNN Default Accuracy :')\n",
    "knn.score(X_test,y_test)"
   ]
  },
  {
   "cell_type": "code",
   "execution_count": 95,
   "id": "f03361ca",
   "metadata": {},
   "outputs": [],
   "source": [
    "# testing\n",
    "y_predict_knndefault=knn.predict(X_test)"
   ]
  },
  {
   "cell_type": "code",
   "execution_count": 96,
   "id": "8bde090a",
   "metadata": {},
   "outputs": [
    {
     "name": "stdout",
     "output_type": "stream",
     "text": [
      "\n",
      "K-Nearest neighbor Classification Report (Default)\n",
      "\n",
      "              precision    recall  f1-score   support\n",
      "\n",
      "           0       0.90      0.91      0.91     20000\n",
      "           1       0.84      0.83      0.84     11525\n",
      "\n",
      "    accuracy                           0.88     31525\n",
      "   macro avg       0.87      0.87      0.87     31525\n",
      "weighted avg       0.88      0.88      0.88     31525\n",
      "\n"
     ]
    }
   ],
   "source": [
    "# menampilkan report klasifikasi untuk knn\n",
    "from sklearn.metrics import classification_report\n",
    "print('\\nK-Nearest neighbor Classification Report (Default)\\n')\n",
    "print(classification_report(y_test, y_predict_knndefault))"
   ]
  },
  {
   "cell_type": "markdown",
   "id": "4ec71e6d",
   "metadata": {},
   "source": [
    "# K-Nearest Neighbor : K-Fold \n",
    "model knn default sudah tergolong cukup baik karena mendapat akurasi 88%. Ini merupakan akurasi yang jauh lebih tinggi dari model Logistic Regression dan juga model Naive Bayes. Akan tetapi saya memiliki kecurigaan bahwa bisa saja hal ini merupakan sebuah kebetulan karena model di test dengan menggunakan data yang mudah ditebak kelasnya. Untuk mengatasi kecurigaan saya, saya mencoba menggunakan K-Fold untuk melihat 5 skenario akurasi model jika menggunakan 5 data test yang berbeda secara bergantian."
   ]
  },
  {
   "cell_type": "code",
   "execution_count": 64,
   "id": "fc14b2a1",
   "metadata": {},
   "outputs": [],
   "source": [
    "#import libraries\n",
    "from sklearn.model_selection import cross_val_score"
   ]
  },
  {
   "cell_type": "code",
   "execution_count": 60,
   "id": "4d5db224",
   "metadata": {},
   "outputs": [],
   "source": [
    "knn = KNeighborsClassifier(n_neighbors=1)\n",
    "cross_knn = cross_val_score(knn,X,y,cv=5)"
   ]
  },
  {
   "cell_type": "code",
   "execution_count": 61,
   "id": "ad6bc278",
   "metadata": {},
   "outputs": [
    {
     "name": "stdout",
     "output_type": "stream",
     "text": [
      "KNN K Fold Accuracy :\n"
     ]
    },
    {
     "data": {
      "text/plain": [
       "0.8776820663354712"
      ]
     },
     "execution_count": 61,
     "metadata": {},
     "output_type": "execute_result"
    }
   ],
   "source": [
    "print('KNN K Fold Accuracy :')\n",
    "cross_knn.mean()"
   ]
  },
  {
   "cell_type": "markdown",
   "id": "a27d91df",
   "metadata": {},
   "source": [
    "# KNN Model Improvement : Parameter Tuning\n",
    "Setelah melakukan K-Fold, saya cukup lega karena rata-rata akurasi model dari 5 skenario yang dibuat berdasarkan 5 data test yang berbeda menghasilkan akurasi 87.7% dan akurasi hanya berkurang sedikit saja dari yang default. Hal ini berarti bahwa akurasi 87-88% ini sudah cukup akurat dan bukan hanya sebuah keberntungan mendapat angka demikian. Langkah selanjutnya adalah memaksimalkan akurasi model dengan parameter tuning menggunakan gridSearchCV. saya melakukan tuning parameter n_neighbour dan weightsnya dan mencari parameter apa yang terbaik. n_neighbor berarti berapa jumlah tetangga terdekat yang akan dilihat, dan weights berarti apa ukuran yang dipakai (jumlah n terdekat/jarak terdekat)."
   ]
  },
  {
   "cell_type": "code",
   "execution_count": 97,
   "id": "6e7230a2",
   "metadata": {},
   "outputs": [],
   "source": [
    "# Import Library\n",
    "from sklearn.model_selection import GridSearchCV\n",
    "from sklearn.neighbors import KNeighborsClassifier"
   ]
  },
  {
   "cell_type": "code",
   "execution_count": 98,
   "id": "74bb6223",
   "metadata": {},
   "outputs": [
    {
     "data": {
      "text/plain": [
       "GridSearchCV(cv=5, estimator=KNeighborsClassifier(),\n",
       "             param_grid={'n_neighbors': [3, 5, 7],\n",
       "                         'weights': ['uniform', 'distance']},\n",
       "             scoring='accuracy')"
      ]
     },
     "execution_count": 98,
     "metadata": {},
     "output_type": "execute_result"
    }
   ],
   "source": [
    "# Tentukan parameter untuk KNN\n",
    "parameters = {\n",
    "    'n_neighbors': [3, 5, 7],\n",
    "    'weights': ['uniform', 'distance'],\n",
    "}\n",
    "\n",
    "# Inisialisasi model KNN\n",
    "knn_tuned = KNeighborsClassifier()\n",
    "\n",
    "# Pencarian parameter terbaik\n",
    "knn_tuned = GridSearchCV(knn_tuned, param_grid=parameters, scoring='accuracy', cv=5)\n",
    "knn_tuned.fit(X_train, y_train)"
   ]
  },
  {
   "cell_type": "code",
   "execution_count": 99,
   "id": "7d9bcde2",
   "metadata": {},
   "outputs": [
    {
     "name": "stdout",
     "output_type": "stream",
     "text": [
      "Tuned Hyperparameters : {'n_neighbors': 7, 'weights': 'distance'}\n",
      "Accuracy : 0.8846998664419747\n"
     ]
    }
   ],
   "source": [
    "# menampilkan parameter terbaik dan akurasinya\n",
    "print(\"Tuned Hyperparameters :\", knn_tuned.best_params_)\n",
    "print(\"Accuracy :\",knn_tuned.best_score_)"
   ]
  },
  {
   "cell_type": "code",
   "execution_count": 100,
   "id": "7174446b",
   "metadata": {},
   "outputs": [
    {
     "data": {
      "text/plain": [
       "KNeighborsClassifier(n_neighbors=7, weights='distance')"
      ]
     },
     "execution_count": 100,
     "metadata": {},
     "output_type": "execute_result"
    }
   ],
   "source": [
    "# Train data dengan menggunakan parameter terbaik\n",
    "modelknn_best = KNeighborsClassifier(n_neighbors = 7, weights= 'distance')\n",
    "modelknn_best.fit(X_train,y_train)"
   ]
  },
  {
   "cell_type": "code",
   "execution_count": 101,
   "id": "058b98b6",
   "metadata": {},
   "outputs": [
    {
     "data": {
      "text/plain": [
       "0.889452815226011"
      ]
     },
     "execution_count": 101,
     "metadata": {},
     "output_type": "execute_result"
    }
   ],
   "source": [
    "# akurasi dengan parameter terbaik\n",
    "modelknn_best.score(X_test,y_test)"
   ]
  },
  {
   "cell_type": "markdown",
   "id": "c1f8f7f9",
   "metadata": {},
   "source": [
    "# K-Nearest Neighbor Evaluation Matrix (Best)\n",
    "Setelah di tuning dengan n_neighbors = 7, weights= 'distance', saya mendapatkan model yang akurasinya lebih baik yakni mencapai 88.94%."
   ]
  },
  {
   "cell_type": "code",
   "execution_count": 102,
   "id": "28e9b1f9",
   "metadata": {},
   "outputs": [],
   "source": [
    "#testing\n",
    "y_predict_knntuned=modelknn_best.predict(X_test)"
   ]
  },
  {
   "cell_type": "code",
   "execution_count": 103,
   "id": "b2153780",
   "metadata": {},
   "outputs": [
    {
     "name": "stdout",
     "output_type": "stream",
     "text": [
      "\n",
      "K-Nearest neighbor Classification Report (Tuned)\n",
      "\n",
      "              precision    recall  f1-score   support\n",
      "\n",
      "           0       0.91      0.92      0.91     20000\n",
      "           1       0.86      0.84      0.85     11525\n",
      "\n",
      "    accuracy                           0.89     31525\n",
      "   macro avg       0.88      0.88      0.88     31525\n",
      "weighted avg       0.89      0.89      0.89     31525\n",
      "\n"
     ]
    }
   ],
   "source": [
    "# Menampilkan report klasidifikasi untuk knn setelah dituning\n",
    "from sklearn.metrics import classification_report\n",
    "print('\\nK-Nearest neighbor Classification Report (Tuned)\\n')\n",
    "print(classification_report(y_test, y_predict_knntuned))"
   ]
  },
  {
   "cell_type": "markdown",
   "id": "545f4aa6",
   "metadata": {},
   "source": [
    "# Decision Tree Model : Default\n",
    "Model KNN diatas sudah memiliki akurasi yang cukup tinggi yakni 89%. akan tetapi saya ingin mencari tahu apakah ada model yang lebih baik daripada model KNN diatas dalam kasus ini. Maka dari itu saya mencoba membangun model terakhir dengan menggunakan Decision Tree."
   ]
  },
  {
   "cell_type": "code",
   "execution_count": 104,
   "id": "a780e4e3",
   "metadata": {},
   "outputs": [
    {
     "data": {
      "text/plain": [
       "DecisionTreeClassifier()"
      ]
     },
     "execution_count": 104,
     "metadata": {},
     "output_type": "execute_result"
    }
   ],
   "source": [
    "# Import Library\n",
    "from sklearn.tree import DecisionTreeClassifier\n",
    "\n",
    "# Melakukan train dengan training data\n",
    "modelDT = DecisionTreeClassifier()\n",
    "modelDT.fit(X_train, y_train)"
   ]
  },
  {
   "cell_type": "code",
   "execution_count": 105,
   "id": "96715c51",
   "metadata": {},
   "outputs": [
    {
     "data": {
      "text/plain": [
       "0.9976526566217288"
      ]
     },
     "execution_count": 105,
     "metadata": {},
     "output_type": "execute_result"
    }
   ],
   "source": [
    "# Menampilkan akurasi model Decision Tree\n",
    "modelDT.score(X_test,y_test)"
   ]
  },
  {
   "cell_type": "code",
   "execution_count": 106,
   "id": "2efe9d73",
   "metadata": {},
   "outputs": [],
   "source": [
    "# testing\n",
    "y_predict_dtdefault=modelDT.predict(X_test)"
   ]
  },
  {
   "cell_type": "code",
   "execution_count": 107,
   "id": "4335df1f",
   "metadata": {},
   "outputs": [
    {
     "name": "stdout",
     "output_type": "stream",
     "text": [
      "\n",
      "Decision Tree Classification Report (Default)\n",
      "\n",
      "              precision    recall  f1-score   support\n",
      "\n",
      "           0       1.00      1.00      1.00     20000\n",
      "           1       1.00      1.00      1.00     11525\n",
      "\n",
      "    accuracy                           1.00     31525\n",
      "   macro avg       1.00      1.00      1.00     31525\n",
      "weighted avg       1.00      1.00      1.00     31525\n",
      "\n"
     ]
    }
   ],
   "source": [
    "# Menampilkan Classification Report untuk Decision Tree Default\n",
    "from sklearn.metrics import classification_report\n",
    "print('\\nDecision Tree Classification Report (Default)\\n')\n",
    "print(classification_report(y_test, y_predict_dtdefault))"
   ]
  },
  {
   "cell_type": "markdown",
   "id": "944f522d",
   "metadata": {},
   "source": [
    "# DT Model Improvement : Parameter Tuning\n",
    "Ternyata saya menemukan bahwa Model dengan Decision Tree menghasilkan akurasi yang sangat baik dan mencapai 99.76%. Padahal model ini masih belum saya maksimalkan dengan parameter tuning. Maka sekarang saya akan melakukan parameter Tuning dengan GridSearchCV dengan mencari parameter criterion dan max_depth yang menghasilkan akurasi maksimal."
   ]
  },
  {
   "cell_type": "code",
   "execution_count": 108,
   "id": "4acee3b7",
   "metadata": {},
   "outputs": [
    {
     "data": {
      "text/plain": [
       "GridSearchCV(cv=5, estimator=DecisionTreeClassifier(),\n",
       "             param_grid={'criterion': ['gini', 'entropy', 'log_loss'],\n",
       "                         'max_depth': [2, 4, 6, 8]},\n",
       "             scoring='accuracy')"
      ]
     },
     "execution_count": 108,
     "metadata": {},
     "output_type": "execute_result"
    }
   ],
   "source": [
    "# Import Library\n",
    "from sklearn.model_selection import GridSearchCV\n",
    "\n",
    "parameters = {\n",
    "    'criterion':['gini', 'entropy', 'log_loss'],\n",
    "    'max_depth':[2,4,6,8],\n",
    "}\n",
    "\n",
    "modelDT = DecisionTreeClassifier()\n",
    "modelDT = GridSearchCV(modelDT, param_grid = parameters, scoring='accuracy', cv=5)\n",
    "modelDT.fit(X_train,y_train)"
   ]
  },
  {
   "cell_type": "code",
   "execution_count": 109,
   "id": "461951de",
   "metadata": {},
   "outputs": [
    {
     "name": "stdout",
     "output_type": "stream",
     "text": [
      "Tuned Hyperparameters : {'criterion': 'gini', 'max_depth': 8}\n",
      "Accuracy : 0.9980253332905257\n"
     ]
    }
   ],
   "source": [
    "# Menampilkan parameter terbaik dan akurasinya\n",
    "print(\"Tuned Hyperparameters :\", modelDT.best_params_)\n",
    "print(\"Accuracy :\",modelDT.best_score_)"
   ]
  },
  {
   "cell_type": "code",
   "execution_count": 110,
   "id": "025bd531",
   "metadata": {},
   "outputs": [
    {
     "data": {
      "text/plain": [
       "DecisionTreeClassifier(max_depth=8)"
      ]
     },
     "execution_count": 110,
     "metadata": {},
     "output_type": "execute_result"
    }
   ],
   "source": [
    "#Train data dengan data training\n",
    "modeldt_best = DecisionTreeClassifier(criterion= 'gini',max_depth=8)\n",
    "modeldt_best.fit(X_train,y_train)"
   ]
  },
  {
   "cell_type": "code",
   "execution_count": 111,
   "id": "fd8e4723",
   "metadata": {},
   "outputs": [
    {
     "data": {
      "text/plain": [
       "0.9984139571768438"
      ]
     },
     "execution_count": 111,
     "metadata": {},
     "output_type": "execute_result"
    }
   ],
   "source": [
    "modeldt_best.score(X_test,y_test)"
   ]
  },
  {
   "cell_type": "markdown",
   "id": "e54d6738",
   "metadata": {},
   "source": [
    "# Decision Tree Evaluation Matrix (Best)\n",
    "Setelah di testing, model maksimal yang dapat dibuat oleh Decision Tree adalah 99.84% (sedikit lebih baik daripada sebelum di tuning)."
   ]
  },
  {
   "cell_type": "code",
   "execution_count": 112,
   "id": "dc862689",
   "metadata": {},
   "outputs": [],
   "source": [
    "# testing\n",
    "y_predict_bestdt = modeldt_best.predict(X_test)"
   ]
  },
  {
   "cell_type": "code",
   "execution_count": 113,
   "id": "0380908e",
   "metadata": {},
   "outputs": [
    {
     "name": "stdout",
     "output_type": "stream",
     "text": [
      "\n",
      "Decision Tree Classification Report (Tuned)\n",
      "\n",
      "              precision    recall  f1-score   support\n",
      "\n",
      "           0       1.00      1.00      1.00     20000\n",
      "           1       1.00      1.00      1.00     11525\n",
      "\n",
      "    accuracy                           1.00     31525\n",
      "   macro avg       1.00      1.00      1.00     31525\n",
      "weighted avg       1.00      1.00      1.00     31525\n",
      "\n"
     ]
    }
   ],
   "source": [
    "# menampilkan clasification report\n",
    "print('\\nDecision Tree Classification Report (Tuned)\\n')\n",
    "print(classification_report(y_test, y_predict_bestdt))"
   ]
  },
  {
   "cell_type": "code",
   "execution_count": 115,
   "id": "260f8f96",
   "metadata": {},
   "outputs": [
    {
     "data": {
      "text/plain": [
       "array([[19998,     2],\n",
       "       [   48, 11477]], dtype=int64)"
      ]
     },
     "execution_count": 115,
     "metadata": {},
     "output_type": "execute_result"
    }
   ],
   "source": [
    "# Confusion Matrix Untuk Matrix Evaluation Lanjutan\n",
    "\n",
    "# Import Library\n",
    "from sklearn.metrics import confusion_matrix\n",
    "\n",
    "# Membuat confusion matrix\n",
    "conf_matrix_bestdt = confusion_matrix(y_test, y_predict_bestdt)\n",
    "conf_matrix_bestdt"
   ]
  },
  {
   "cell_type": "code",
   "execution_count": 117,
   "id": "d17b5686",
   "metadata": {},
   "outputs": [
    {
     "data": {
      "image/png": "[encoded data removed]",
      "text/plain": [
       "<Figure size 800x600 with 1 Axes>"
      ]
     },
     "metadata": {},
     "output_type": "display_data"
    }
   ],
   "source": [
    "# Menampilkan confusion matrix menggunakan heatmap\n",
    "plt.figure(figsize=(8, 6))\n",
    "sns.heatmap(conf_matrix_bestdt, annot=True, fmt='d', cmap='Blues', cbar=False,\n",
    "            xticklabels=['Predicted 0', 'Predicted 1'],\n",
    "            yticklabels=['Actual 0', 'Actual 1'])\n",
    "plt.title('Confusion Matrix - Decision Tree')\n",
    "plt.xlabel('Predicted Label')\n",
    "plt.ylabel('Actual Label')\n",
    "plt.show()"
   ]
  },
  {
   "cell_type": "markdown",
   "id": "fabfc168",
   "metadata": {},
   "source": [
    "Kesimpulan :\n",
    "\n",
    "\n",
    "Model Machine Learning yang paling optimal dalam \"Preliminary Round : Machine Learning Model\" dengan kasus Identified Money Laundry Transaction adalah menggunakan model Decision Tree dengan Hyperparameters : {'criterion': 'entropy', 'max_depth': 8}. saya berhasil mencapai akurasi 99.8%. Dan berikut adalah hasil evaluasi model Decision Tree saya :\n",
    "\n",
    "Dari confusion matrix diatas hanya ada 48 transaksi yang sebenarnya money laundry, tetapi diprediksi bukan money laundry (FALSE Negative), dan hanya ada 2 transaksi yang sebenarnya bukan money laundry, tetapi diprediksi money laundry (FALSE POSITIVE).\n",
    "\n",
    "Dari insight tersebut kita dapat mengetahui nilai-nilai evaluasi lain yang sebenarnya ada juga di clasification report diatas yakni precision, recall, dan f1 score yang hampir 100% (tetapi pada clasification report dibulatkan menjadi 100%). "
   ]
  }
 ],
 "metadata": {
  "kernelspec": {
   "display_name": "Python 3 (ipykernel)",
   "language": "python",
   "name": "python3"
  },
  "language_info": {
   "codemirror_mode": {
    "name": "ipython",
    "version": 3
   },
   "file_extension": ".py",
   "mimetype": "text/x-python",
   "name": "python",
   "nbconvert_exporter": "python",
   "pygments_lexer": "ipython3",
   "version": "3.9.13"
  }
 },
 "nbformat": 4,
 "nbformat_minor": 5
}
